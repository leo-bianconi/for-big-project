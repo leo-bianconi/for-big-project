{
 "cells": [
  {
   "cell_type": "markdown",
   "id": "4197923e",
   "metadata": {
    "id": "k435Psgdexbb"
   },
   "source": [
    "# Big project activity"
   ]
  },
  {
   "cell_type": "markdown",
   "id": "k435Psgdexbb",
   "metadata": {
    "id": "k435Psgdexbb"
   },
   "source": [
    "## Optimal chargin station location"
   ]
  },
  {
   "cell_type": "markdown",
   "id": "71e8cba3",
   "metadata": {
    "id": "71e8cba3"
   },
   "source": [
    "### 1.Introduction\n",
    "\n",
    "Consider a long linear cycle path  as Vento, or the Danube cycle path. The cycle path usually runs along the banks of a river with scarse tourist interest. However, from the main course of the cycle path it is possible to reach places of tourist interest by making small detours.  \n",
    "\n",
    "The rapid growth of e-bike ridership is proposing the problem of deploying a suitable charging infrastructure. The charging stations should be placed in strategic positions so as to guarantee a coverage of the whole cycle path. However, since the charging operations require a non negligible time, the charging station should be positioned in places where alternative activities could be carried out, as restaurants, museums, swimming pool, or other amenities. Moreover, the presence of a charging station could also induce e-cyclists to discover new places and generate positive externalities.\n",
    "\n"
   ]
  },
  {
   "cell_type": "markdown",
   "id": "F5J-AOngfJfC",
   "metadata": {
    "id": "F5J-AOngfJfC"
   },
   "source": [
    "### 2.Decision problem\n",
    "We can represent the cycle path as a graph where the set of nodes $H = \\{1,\\ldots,n\\}$ corresponds to the tourist sites that may host a charging station.\n",
    "In addition we are given the distances between touristic site ($d_{ij},$ with $ i,j =1,\\ldots,n$). Let $c_i$ be the cost of installing a charging station in site $i, i=1\\ldots,n$.\n",
    "\n",
    "\n",
    "The problem is, given a budget $b$, determine the subset of sites $S\\subseteq H$ where to install the charging stations so that the total cost is not higher than $b$ and the maximum distance between consecutive charging stations is minimized.\n",
    "Consider that the cyclist has to visit all the touristic destination in a consecutive way.\n",
    "\n"
   ]
  },
  {
   "cell_type": "markdown",
   "id": "6f1SzgfSfXlb",
   "metadata": {
    "id": "6f1SzgfSfXlb"
   },
   "source": [
    "### 3.Problem characteristics\n",
    "There are 2 csv files that contain the information of the cycle way, they are essential to build the equivalent graph:\n",
    "\n",
    "\n",
    "*    in the \"nodes.csv\" file there are all the destinations that the cyclist can reach, with their spatial coordinates and the value of installation costs related to that destination. Consider that the \"tourist-dest-id\" is not the graph node number but it is an unique id to identify the destination.\n",
    "*   in the \"OD.csv\" you can find all the arcs between two different nodes, keep attention that the condition of visiting consecutive touristic destination must be respected.\n",
    "\n",
    "The set of nodes $N$ is defined by $\\{0,1,\\ldots,n, n+1\\}$.  The Arcs $A$ correspond to the portion of cycle path between two consecutive charging stations. We assume that potentially e-riders will visit all sites along the way making the suitable deviations and going back to the main path at the initial point of the detour.\n",
    "The cost associated with each  arc $(i,j)$ is given by $c_j$, thus the cost of installing a charging station in $j$. These costs are defined for all arcs in $A$, while they are set to 0 for all the arcs that arrive in the last node.\n",
    "The path starts in node $s = 0$ and ends in node $t = n+1$, these two nodes are connected to the nearest touristic site with an arc of null length.\n",
    "\n",
    "### 4.Example of linear path with deviation\n",
    "![picture](https://drive.google.com/uc?export=view&id=1w16bHtbu0FGGL-UntxeqxD7244D3eHbJ)"
   ]
  },
  {
   "cell_type": "code",
   "execution_count": null,
   "id": "77067c0c",
   "metadata": {},
   "outputs": [],
   "source": []
  },
  {
   "cell_type": "markdown",
   "id": "C3mv0MBqf-7F",
   "metadata": {
    "id": "C3mv0MBqf-7F"
   },
   "source": [
    "### 5.Requirements\n",
    "The requirements of the problem are:\n",
    "\n",
    "\n",
    "*   the maximum running time of the algorithm must be 5 minutes, so set the proper timer\n",
    "*   create the equivalent graph and display it on a xy-plot\n",
    "*   find the solution for the basic scenario, with a mip model, displaying the solution with a xy-plot, the budget constrain is $b = 10000\\ € $.\n",
    "*   Find the optimal solution for 5 different values of budget in the range $[10000, 100000]$. Select the values of the budget so as to have different charger locations.\n",
    "\n",
    "  You have to motivate you choice and the solution you get. They can also be not common solution if they are well motivated. To support your decision and explanations you can print plots or tables. You can also compare different scenarios.\n",
    "\n",
    "\n",
    "   \n",
    "If you have some doubts related to the parametric analysis prof. Cubillos uploaded a notebook with the solution on WeBeeP and you can have a look there."
   ]
  },
  {
   "cell_type": "markdown",
   "id": "83391c72",
   "metadata": {},
   "source": [
    "### Insert student name and student ID\n",
    "\n",
    "student1:\n",
    "\n",
    "ID1:\n",
    "\n",
    "student2:\n",
    "\n",
    "ID2:\n",
    "\n",
    "student3\n",
    "\n",
    "ID3:\n",
    "\n"
   ]
  },
  {
   "cell_type": "code",
   "execution_count": 105,
   "id": "1Wtgd9v5j6QG",
   "metadata": {
    "id": "1Wtgd9v5j6QG"
   },
   "outputs": [],
   "source": [
    "#install libraries\n",
    "\n",
    "#!pip install mip\n",
    "#!pip install --upgrade cffi==1.15.0"
   ]
  },
  {
   "cell_type": "code",
   "execution_count": 106,
   "id": "6ac6b084",
   "metadata": {
    "id": "6ac6b084"
   },
   "outputs": [],
   "source": [
    "#import libraries\n",
    "import matplotlib as pl\n",
    "import mip\n",
    "import pandas as pd\n",
    "import importlib\n",
    "import cffi\n",
    "importlib.reload(cffi)\n",
    "import numpy as np\n",
    "import math\n",
    "import networkx as nx\n",
    "import random\n",
    "import time\n"
   ]
  },
  {
   "cell_type": "code",
   "execution_count": 107,
   "id": "Sy8XNds0ieqh",
   "metadata": {
    "id": "Sy8XNds0ieqh"
   },
   "outputs": [
    {
     "data": {
      "text/html": [
       "<div>\n",
       "<style scoped>\n",
       "    .dataframe tbody tr th:only-of-type {\n",
       "        vertical-align: middle;\n",
       "    }\n",
       "\n",
       "    .dataframe tbody tr th {\n",
       "        vertical-align: top;\n",
       "    }\n",
       "\n",
       "    .dataframe thead th {\n",
       "        text-align: right;\n",
       "    }\n",
       "</style>\n",
       "<table border=\"1\" class=\"dataframe\">\n",
       "  <thead>\n",
       "    <tr style=\"text-align: right;\">\n",
       "      <th></th>\n",
       "      <th>origin_id</th>\n",
       "      <th>destination_id</th>\n",
       "      <th>distance [m]</th>\n",
       "    </tr>\n",
       "  </thead>\n",
       "  <tbody>\n",
       "    <tr>\n",
       "      <th>0</th>\n",
       "      <td>0</td>\n",
       "      <td>0</td>\n",
       "      <td>NaN</td>\n",
       "    </tr>\n",
       "    <tr>\n",
       "      <th>1</th>\n",
       "      <td>0</td>\n",
       "      <td>17</td>\n",
       "      <td>43798.08450</td>\n",
       "    </tr>\n",
       "    <tr>\n",
       "      <th>2</th>\n",
       "      <td>0</td>\n",
       "      <td>18</td>\n",
       "      <td>47252.99168</td>\n",
       "    </tr>\n",
       "    <tr>\n",
       "      <th>3</th>\n",
       "      <td>0</td>\n",
       "      <td>20</td>\n",
       "      <td>57171.88493</td>\n",
       "    </tr>\n",
       "    <tr>\n",
       "      <th>4</th>\n",
       "      <td>0</td>\n",
       "      <td>21</td>\n",
       "      <td>62260.57345</td>\n",
       "    </tr>\n",
       "  </tbody>\n",
       "</table>\n",
       "</div>"
      ],
      "text/plain": [
       "   origin_id  destination_id  distance [m]\n",
       "0          0               0           NaN\n",
       "1          0              17   43798.08450\n",
       "2          0              18   47252.99168\n",
       "3          0              20   57171.88493\n",
       "4          0              21   62260.57345"
      ]
     },
     "execution_count": 107,
     "metadata": {},
     "output_type": "execute_result"
    }
   ],
   "source": [
    "#import the csv file\n",
    "nodes_df = pd.read_csv(\"./nodes.csv\", encoding='cp1252')\n",
    "arcs_df = pd.read_csv(\"./OD.csv\")\n",
    "\n",
    "nodes_df.head()\n",
    "arcs_df.head()"
   ]
  },
  {
   "cell_type": "code",
   "execution_count": 108,
   "id": "kUQ0SWZmk_PS",
   "metadata": {
    "id": "kUQ0SWZmk_PS"
   },
   "outputs": [],
   "source": [
    "#set the timer\n",
    "\n",
    "#TO DO"
   ]
  },
  {
   "cell_type": "code",
   "execution_count": 109,
   "id": "NAk7cwB25Ukr",
   "metadata": {
    "id": "NAk7cwB25Ukr"
   },
   "outputs": [
    {
     "name": "stdout",
     "output_type": "stream",
     "text": [
      "[0, 90, 89, 88, 87, 85, 86, 82, 84, 83, 17, 18, 20, 21, 23, 77, 24, 25, 29, 30, 31, 32, 33, 35, 38, 39, 40, 41, 68, 69, 67, 64, 66, 63, 61, 62, 60, 48, 58, 57, 54, 53, 52, 36]\n"
     ]
    },
    {
     "data": {
      "image/png": "[encoded data removed]",
      "text/plain": [
       "<Figure size 640x480 with 1 Axes>"
      ]
     },
     "metadata": {},
     "output_type": "display_data"
    }
   ],
   "source": [
    "#build the equivalent graph\n",
    "\n",
    "#define the set of nodes\n",
    "N = set()\n",
    "for index, node in nodes_df.iterrows():\n",
    "    N.add(node.tourist_dest_id)\n",
    "\n",
    "n = len(N)\n",
    "\n",
    "#define the set of edges\n",
    "def d(i, j):    # distance function\n",
    "    if i == j: return 0\n",
    "    res = arcs_df.loc[(arcs_df['origin_id'] == i) & (arcs_df['destination_id'] == j), 'distance [m]'].values[0]\n",
    "    return res\n",
    "\n",
    "def c(i, j):    # cost function\n",
    "    if j == 91: return 0\n",
    "    return nodes_df.loc[(nodes_df['tourist_dest_id'] == j), 'Cost_of_installation [€]'].values[0]\n",
    "\n",
    "A = set()\n",
    "for idx, arc in arcs_df.iterrows():\n",
    "    i = int(arc.origin_id)\n",
    "    j = int(arc.destination_id)\n",
    "    A.add((i, j))\n",
    "    \n",
    "A_weighted = [(i, j, {'weight': d(i, j)}) for i, j in A]\n",
    "#A_weighted += [ (0, 's', {'weight': 0}) ]\n",
    "#A_weighted += [ (52, 't', {'weight': 0}) ]\n",
    "#A_weighted += [('s', 't', {'weight': 0})]\n",
    "\n",
    "#build the graph\n",
    "G = nx.DiGraph()\n",
    "G.add_nodes_from(N)\n",
    "G.add_edges_from(A_weighted)\n",
    "\n",
    "#pos = nx.circular_layout(G)    # another possible layout for nodes\n",
    "pos = {id: (pos_x, pos_y) for id, pos_x, pos_y in nodes_df[['tourist_dest_id', 'x (longitude)', 'y (latitude)']].values}\n",
    "nx.draw_networkx_nodes(G, pos=pos, node_size=100)\n",
    "nx.draw_networkx_labels(G,pos=pos, font_size=8)\n",
    "\n",
    "# TSP\n",
    "# Hamiltonian cycle (path), found by using networkX library, and assuming first node is 0 and last node is 52 (by looking at the plot)\n",
    "tsp = nx.approximation.traveling_salesman_problem\n",
    "path = tsp(G, cycle=False, method=nx.approximation.greedy_tsp)\n",
    "\n",
    "#path = nx.approximation.simulated_annealing_tsp(G, init_cycle='greedy', weight='weight', source=0, temp=100, move='1-0', max_iterations=10, N_inner=100, alpha=0.01, seed=random.randint(0, 1000))\n",
    "#path = nx.approximation.greedy_tsp(G)\n",
    "\n",
    "# plot the path\n",
    "path_edges = [(path[i], path[i+1]) for i in range(len(path) - 1)]\n",
    "G.add_edges_from(path_edges)\n",
    "\n",
    "#draw the path\n",
    "nx.draw_networkx_edges(G, edgelist=path_edges, pos=pos)\n",
    "print(path)"
   ]
  },
  {
   "cell_type": "code",
   "execution_count": 110,
   "id": "44d341b3",
   "metadata": {},
   "outputs": [
    {
     "name": "stdout",
     "output_type": "stream",
     "text": [
      "{(0, 90): 16011.18979, (0, 89): 29832.45227, (0, 88): 34130.609288, (0, 87): 39610.193432, (0, 85): 43246.561147, (0, 86): 44815.590338, (0, 82): 49574.269353, (0, 84): 50930.539801000006, (0, 83): 51920.064284700005, (0, 17): 58858.1501167, (0, 18): 65882.9350267, (0, 20): 78071.4495667, (0, 21): 87632.4626397, (0, 23): 93243.0957797, (0, 77): 97561.0682007, (0, 24): 105549.4522637, (0, 25): 110946.6641737, (0, 29): 117959.8540277, (0, 30): 121300.0686557, (0, 31): 126593.9687337, (0, 32): 128768.65600070001, (0, 33): 132867.1843347, (0, 35): 137239.2808767, (0, 38): 144420.16352170001, (0, 39): 145890.58519970003, (0, 40): 149009.34618570004, (0, 41): 153401.86676370003, (0, 68): 158625.64165370003, (0, 69): 162738.27962670004, (0, 67): 174229.47066670004, (0, 64): 180159.49675070005, (0, 66): 182035.48160770006, (0, 63): 190281.46039870006, (0, 61): 194607.28054370006, (0, 62): 196241.31564870005, (0, 60): 204407.98176070006, (0, 48): 215250.14981070007, (0, 58): 218111.25002570008, (0, 57): 221319.58474270007, (0, 54): 228307.92028470006, (0, 53): 235874.50516170004, (0, 52): 237793.20435870005, (0, 36): 299614.7701987001, (90, 89): 13821.26248, (90, 88): 18119.419498, (90, 87): 23599.003642, (90, 85): 27235.371357, (90, 86): 28804.400548, (90, 82): 33563.079563, (90, 84): 34919.350011, (90, 83): 35908.8744947, (90, 17): 42846.9603267, (90, 18): 49871.7452367, (90, 20): 62060.2597767, (90, 21): 71621.27284969999, (90, 23): 77231.9059897, (90, 77): 81549.8784107, (90, 24): 89538.2624737, (90, 25): 94935.4743837, (90, 29): 101948.6642377, (90, 30): 105288.8788657, (90, 31): 110582.7789437, (90, 32): 112757.4662107, (90, 33): 116855.9945447, (90, 35): 121228.0910867, (90, 38): 128408.97373170001, (90, 39): 129879.39540970001, (90, 40): 132998.1563957, (90, 41): 137390.6769737, (90, 68): 142614.4518637, (90, 69): 146727.0898367, (90, 67): 158218.2808767, (90, 64): 164148.30696070002, (90, 66): 166024.29181770002, (90, 63): 174270.27060870003, (90, 61): 178596.09075370003, (90, 62): 180230.12585870002, (90, 60): 188396.79197070003, (90, 48): 199238.96002070003, (90, 58): 202100.06023570005, (90, 57): 205308.39495270004, (90, 54): 212296.73049470002, (90, 53): 219863.3153717, (90, 52): 221782.01456870002, (90, 36): 283603.58040870004, (89, 88): 4298.157018, (89, 87): 9777.741162, (89, 85): 13414.108877, (89, 86): 14983.138068, (89, 82): 19741.817083, (89, 84): 21098.087531, (89, 83): 22087.6120147, (89, 17): 29025.6978467, (89, 18): 36050.4827567, (89, 20): 48238.99729670001, (89, 21): 57800.01036970001, (89, 23): 63410.64350970001, (89, 77): 67728.6159307, (89, 24): 75716.99999370001, (89, 25): 81114.21190370001, (89, 29): 88127.4017577, (89, 30): 91467.6163857, (89, 31): 96761.51646370001, (89, 32): 98936.20373070001, (89, 33): 103034.73206470002, (89, 35): 107406.82860670002, (89, 38): 114587.71125170002, (89, 39): 116058.13292970002, (89, 40): 119176.89391570001, (89, 41): 123569.41449370001, (89, 68): 128793.18938370001, (89, 69): 132905.8273567, (89, 67): 144397.0183967, (89, 64): 150327.04448070002, (89, 66): 152203.02933770002, (89, 63): 160449.00812870002, (89, 61): 164774.82827370003, (89, 62): 166408.8633787, (89, 60): 174575.52949070002, (89, 48): 185417.69754070003, (89, 58): 188278.79775570004, (89, 57): 191487.13247270003, (89, 54): 198475.46801470002, (89, 53): 206042.0528917, (89, 52): 207960.7520887, (89, 36): 269782.3179287, (88, 87): 5479.584144, (88, 85): 9115.951859, (88, 86): 10684.98105, (88, 82): 15443.660065, (88, 84): 16799.930513, (88, 83): 17789.4549967, (88, 17): 24727.5408287, (88, 18): 31752.325738699998, (88, 20): 43940.840278699994, (88, 21): 53501.853351699996, (88, 23): 59112.486491699994, (88, 77): 63430.45891269999, (88, 24): 71418.8429757, (88, 25): 76816.0548857, (88, 29): 83829.24473969999, (88, 30): 87169.4593677, (88, 31): 92463.3594457, (88, 32): 94638.0467127, (88, 33): 98736.5750467, (88, 35): 103108.6715887, (88, 38): 110289.55423370001, (88, 39): 111759.9759117, (88, 40): 114878.7368977, (88, 41): 119271.2574757, (88, 68): 124495.0323657, (88, 69): 128607.6703387, (88, 67): 140098.8613787, (88, 64): 146028.88746270002, (88, 66): 147904.87231970002, (88, 63): 156150.85111070002, (88, 61): 160476.67125570003, (88, 62): 162110.70636070002, (88, 60): 170277.37247270002, (88, 48): 181119.54052270003, (88, 58): 183980.64073770004, (88, 57): 187188.97545470003, (88, 54): 194177.31099670002, (88, 53): 201743.8958737, (88, 52): 203662.59507070002, (88, 36): 265484.16091070004, (87, 85): 3636.367715, (87, 86): 5205.396906, (87, 82): 9964.075921, (87, 84): 11320.346368999999, (87, 83): 12309.870852699998, (87, 17): 19247.9566847, (87, 18): 26272.741594699997, (87, 20): 38461.2561347, (87, 21): 48022.2692077, (87, 23): 53632.9023477, (87, 77): 57950.8747687, (87, 24): 65939.2588317, (87, 25): 71336.4707417, (87, 29): 78349.6605957, (87, 30): 81689.8752237, (87, 31): 86983.7753017, (87, 32): 89158.46256870001, (87, 33): 93256.99090270001, (87, 35): 97629.08744470001, (87, 38): 104809.97008970001, (87, 39): 106280.39176770001, (87, 40): 109399.15275370001, (87, 41): 113791.6733317, (87, 68): 119015.4482217, (87, 69): 123128.08619470001, (87, 67): 134619.2772347, (87, 64): 140549.30331870003, (87, 66): 142425.28817570003, (87, 63): 150671.26696670003, (87, 61): 154997.08711170004, (87, 62): 156631.12221670002, (87, 60): 164797.78832870003, (87, 48): 175639.95637870004, (87, 58): 178501.05659370005, (87, 57): 181709.39131070004, (87, 54): 188697.72685270003, (87, 53): 196264.3117297, (87, 52): 198183.01092670002, (87, 36): 260004.57676670002, (85, 86): 1569.029191, (85, 82): 6327.708205999999, (85, 84): 7683.978654, (85, 83): 8673.5031377, (85, 17): 15611.588969699998, (85, 18): 22636.373879699997, (85, 20): 34824.8884197, (85, 21): 44385.9014927, (85, 23): 49996.5346327, (85, 77): 54314.5070537, (85, 24): 62302.8911167, (85, 25): 67700.1030267, (85, 29): 74713.2928807, (85, 30): 78053.5075087, (85, 31): 83347.4075867, (85, 32): 85522.09485370001, (85, 33): 89620.62318770001, (85, 35): 93992.71972970001, (85, 38): 101173.60237470001, (85, 39): 102644.02405270001, (85, 40): 105762.7850387, (85, 41): 110155.3056167, (85, 68): 115379.0805067, (85, 69): 119491.71847970001, (85, 67): 130982.90951970001, (85, 64): 136912.93560370003, (85, 66): 138788.92046070003, (85, 63): 147034.89925170003, (85, 61): 151360.71939670003, (85, 62): 152994.75450170002, (85, 60): 161161.42061370003, (85, 48): 172003.58866370004, (85, 58): 174864.68887870005, (85, 57): 178073.02359570004, (85, 54): 185061.35913770003, (85, 53): 192627.9440147, (85, 52): 194546.64321170002, (85, 36): 256368.20905170002, (86, 82): 4758.679015, (86, 84): 6114.949463, (86, 83): 7104.4739467, (86, 17): 14042.5597787, (86, 18): 21067.344688700003, (86, 20): 33255.85922870001, (86, 21): 42816.87230170001, (86, 23): 48427.50544170001, (86, 77): 52745.477862700005, (86, 24): 60733.8619257, (86, 25): 66131.07383570001, (86, 29): 73144.2636897, (86, 30): 76484.4783177, (86, 31): 81778.37839570001, (86, 32): 83953.06566270001, (86, 33): 88051.59399670002, (86, 35): 92423.69053870002, (86, 38): 99604.57318370002, (86, 39): 101074.99486170002, (86, 40): 104193.75584770001, (86, 41): 108586.27642570001, (86, 68): 113810.05131570001, (86, 69): 117922.68928870001, (86, 67): 129413.88032870002, (86, 64): 135343.90641270002, (86, 66): 137219.89126970002, (86, 63): 145465.87006070002, (86, 61): 149791.69020570003, (86, 62): 151425.7253107, (86, 60): 159592.39142270002, (86, 48): 170434.55947270003, (86, 58): 173295.65968770004, (86, 57): 176503.99440470003, (86, 54): 183492.32994670002, (86, 53): 191058.9148237, (86, 52): 192977.6140207, (86, 36): 254799.1798607, (82, 84): 1356.270448, (82, 83): 2345.7949317000002, (82, 17): 9283.880763699999, (82, 18): 16308.6656737, (82, 20): 28497.180213699998, (82, 21): 38058.1932867, (82, 23): 43668.8264267, (82, 77): 47986.798847699996, (82, 24): 55975.182910699994, (82, 25): 61372.39482069999, (82, 29): 68385.58467469999, (82, 30): 71725.79930269999, (82, 31): 77019.6993807, (82, 32): 79194.3866477, (82, 33): 83292.9149817, (82, 35): 87665.0115237, (82, 38): 94845.8941687, (82, 39): 96316.3158467, (82, 40): 99435.0768327, (82, 41): 103827.5974107, (82, 68): 109051.3723007, (82, 69): 113164.0102737, (82, 67): 124655.2013137, (82, 64): 130585.2273977, (82, 66): 132461.2122547, (82, 63): 140707.1910457, (82, 61): 145033.0111907, (82, 62): 146667.04629569998, (82, 60): 154833.7124077, (82, 48): 165675.8804577, (82, 58): 168536.9806727, (82, 57): 171745.3153897, (82, 54): 178733.6509317, (82, 53): 186300.23580869997, (82, 52): 188218.93500569998, (82, 36): 250040.50084569998, (84, 83): 989.5244837, (84, 17): 7927.6103157, (84, 18): 14952.3952257, (84, 20): 27140.909765700002, (84, 21): 36701.922838700004, (84, 23): 42312.5559787, (84, 77): 46630.5283997, (84, 24): 54618.9124627, (84, 25): 60016.1243727, (84, 29): 67029.3142267, (84, 30): 70369.5288547, (84, 31): 75663.4289327, (84, 32): 77838.1161997, (84, 33): 81936.6445337, (84, 35): 86308.7410757, (84, 38): 93489.62372070001, (84, 39): 94960.04539870001, (84, 40): 98078.8063847, (84, 41): 102471.3269627, (84, 68): 107695.1018527, (84, 69): 111807.7398257, (84, 67): 123298.93086570001, (84, 64): 129228.9569497, (84, 66): 131104.9418067, (84, 63): 139350.9205977, (84, 61): 143676.7407427, (84, 62): 145310.7758477, (84, 60): 153477.4419597, (84, 48): 164319.6100097, (84, 58): 167180.71022470001, (84, 57): 170389.0449417, (84, 54): 177377.3804837, (84, 53): 184943.96536069998, (84, 52): 186862.6645577, (84, 36): 248684.23039769998, (83, 17): 6938.085832, (83, 18): 13962.870742, (83, 20): 26151.385282, (83, 21): 35712.398355, (83, 23): 41323.031494999996, (83, 77): 45641.003915999994, (83, 24): 53629.38797899999, (83, 25): 59026.59988899999, (83, 29): 66039.78974299999, (83, 30): 69380.00437099999, (83, 31): 74673.904449, (83, 32): 76848.591716, (83, 33): 80947.12005, (83, 35): 85319.216592, (83, 38): 92500.099237, (83, 39): 93970.520915, (83, 40): 97089.281901, (83, 41): 101481.80247899999, (83, 68): 106705.57736899999, (83, 69): 110818.215342, (83, 67): 122309.406382, (83, 64): 128239.432466, (83, 66): 130115.417323, (83, 63): 138361.396114, (83, 61): 142687.216259, (83, 62): 144321.251364, (83, 60): 152487.917476, (83, 48): 163330.085526, (83, 58): 166191.18574100002, (83, 57): 169399.520458, (83, 54): 176387.856, (83, 53): 183954.440877, (83, 52): 185873.140074, (83, 36): 247694.705914, (17, 18): 7024.78491, (17, 20): 19213.29945, (17, 21): 28774.312523, (17, 23): 34384.945663, (17, 77): 38702.918084, (17, 24): 46691.302146999995, (17, 25): 52088.51405699999, (17, 29): 59101.70391099999, (17, 30): 62441.91853899999, (17, 31): 67735.818617, (17, 32): 69910.505884, (17, 33): 74009.034218, (17, 35): 78381.13076, (17, 38): 85562.013405, (17, 39): 87032.435083, (17, 40): 90151.196069, (17, 41): 94543.716647, (17, 68): 99767.491537, (17, 69): 103880.12951, (17, 67): 115371.32055, (17, 64): 121301.346634, (17, 66): 123177.331491, (17, 63): 131423.310282, (17, 61): 135749.130427, (17, 62): 137383.16553199998, (17, 60): 145549.831644, (17, 48): 156391.999694, (17, 58): 159253.099909, (17, 57): 162461.434626, (17, 54): 169449.770168, (17, 53): 177016.35504499997, (17, 52): 178935.05424199998, (17, 36): 240756.62008199998, (18, 20): 12188.51454, (18, 21): 21749.527613, (18, 23): 27360.160752999996, (18, 77): 31678.133173999995, (18, 24): 39666.51723699999, (18, 25): 45063.72914699999, (18, 29): 52076.91900099999, (18, 30): 55417.13362899999, (18, 31): 60711.03370699999, (18, 32): 62885.72097399999, (18, 33): 66984.24930799998, (18, 35): 71356.34584999998, (18, 38): 78537.22849499999, (18, 39): 80007.65017299999, (18, 40): 83126.41115899998, (18, 41): 87518.93173699998, (18, 68): 92742.70662699998, (18, 69): 96855.34459999998, (18, 67): 108346.53563999999, (18, 64): 114276.56172399998, (18, 66): 116152.54658099999, (18, 63): 124398.52537199999, (18, 61): 128724.345517, (18, 62): 130358.380622, (18, 60): 138525.046734, (18, 48): 149367.214784, (18, 58): 152228.31499900002, (18, 57): 155436.649716, (18, 54): 162424.985258, (18, 53): 169991.570135, (18, 52): 171910.269332, (18, 36): 233731.835172, (20, 21): 9561.013073, (20, 23): 15171.646213, (20, 77): 19489.618634, (20, 24): 27478.002697, (20, 25): 32875.214607, (20, 29): 39888.404461, (20, 30): 43228.619089, (20, 31): 48522.519167, (20, 32): 50697.206434, (20, 33): 54795.734768, (20, 35): 59167.83131, (20, 38): 66348.713955, (20, 39): 67819.135633, (20, 40): 70937.89661899999, (20, 41): 75330.41719699999, (20, 68): 80554.19208699999, (20, 69): 84666.83006, (20, 67): 96158.0211, (20, 64): 102088.047184, (20, 66): 103964.032041, (20, 63): 112210.010832, (20, 61): 116535.830977, (20, 62): 118169.86608200001, (20, 60): 126336.53219400001, (20, 48): 137178.700244, (20, 58): 140039.80045900002, (20, 57): 143248.135176, (20, 54): 150236.470718, (20, 53): 157803.05559499998, (20, 52): 159721.754792, (20, 36): 221543.320632, (21, 23): 5610.63314, (21, 77): 9928.605561, (21, 24): 17916.989624, (21, 25): 23314.201534, (21, 29): 30327.391388, (21, 30): 33667.606016, (21, 31): 38961.506094, (21, 32): 41136.193361, (21, 33): 45234.721695, (21, 35): 49606.818237, (21, 38): 56787.700882, (21, 39): 58258.122559999996, (21, 40): 61376.883546, (21, 41): 65769.404124, (21, 68): 70993.179014, (21, 69): 75105.816987, (21, 67): 86597.008027, (21, 64): 92527.034111, (21, 66): 94403.018968, (21, 63): 102648.997759, (21, 61): 106974.81790400001, (21, 62): 108608.85300900001, (21, 60): 116775.51912100002, (21, 48): 127617.68717100003, (21, 58): 130478.78738600003, (21, 57): 133687.12210300003, (21, 54): 140675.45764500002, (21, 53): 148242.042522, (21, 52): 150160.741719, (21, 36): 211982.307559, (23, 77): 4317.972421, (23, 24): 12306.356484, (23, 25): 17703.568394, (23, 29): 24716.758248000002, (23, 30): 28056.972876000003, (23, 31): 33350.872954000006, (23, 32): 35525.56022100001, (23, 33): 39624.08855500001, (23, 35): 43996.18509700001, (23, 38): 51177.06774200001, (23, 39): 52647.489420000005, (23, 40): 55766.25040600001, (23, 41): 60158.770984, (23, 68): 65382.545874, (23, 69): 69495.18384700001, (23, 67): 80986.37488700001, (23, 64): 86916.40097100001, (23, 66): 88792.38582800001, (23, 63): 97038.36461900001, (23, 61): 101364.18476400002, (23, 62): 102998.21986900002, (23, 60): 111164.88598100003, (23, 48): 122007.05403100004, (23, 58): 124868.15424600003, (23, 57): 128076.48896300004, (23, 54): 135064.82450500003, (23, 53): 142631.409382, (23, 52): 144550.10857900002, (23, 36): 206371.67441900002, (77, 24): 7988.384063, (77, 25): 13385.595973, (77, 29): 20398.785827, (77, 30): 23739.000455, (77, 31): 29032.900533, (77, 32): 31207.5878, (77, 33): 35306.116134, (77, 35): 39678.212676, (77, 38): 46859.095321, (77, 39): 48329.516999, (77, 40): 51448.277985, (77, 41): 55840.798563000004, (77, 68): 61064.573453000005, (77, 69): 65177.211426, (77, 67): 76668.402466, (77, 64): 82598.42855, (77, 66): 84474.413407, (77, 63): 92720.392198, (77, 61): 97046.212343, (77, 62): 98680.24744800001, (77, 60): 106846.91356000002, (77, 48): 117689.08161000002, (77, 58): 120550.18182500002, (77, 57): 123758.51654200003, (77, 54): 130746.85208400003, (77, 53): 138313.43696100003, (77, 52): 140232.13615800004, (77, 36): 202053.70199800003, (24, 25): 5397.21191, (24, 29): 12410.401764, (24, 30): 15750.616392, (24, 31): 21044.51647, (24, 32): 23219.203737, (24, 33): 27317.732071, (24, 35): 31689.828612999998, (24, 38): 38870.711257999996, (24, 39): 40341.132935999995, (24, 40): 43459.893921999996, (24, 41): 47852.4145, (24, 68): 53076.18939, (24, 69): 57188.827363, (24, 67): 68680.018403, (24, 64): 74610.04448699999, (24, 66): 76486.029344, (24, 63): 84732.008135, (24, 61): 89057.82828, (24, 62): 90691.863385, (24, 60): 98858.52949700001, (24, 48): 109700.69754700002, (24, 58): 112561.79776200002, (24, 57): 115770.13247900002, (24, 54): 122758.46802100002, (24, 53): 130325.05289800002, (24, 52): 132243.75209500003, (24, 36): 194065.31793500003, (25, 29): 7013.189854, (25, 30): 10353.404482, (25, 31): 15647.30456, (25, 32): 17821.991827, (25, 33): 21920.520161, (25, 35): 26292.616703, (25, 38): 33473.499348, (25, 39): 34943.921025999996, (25, 40): 38062.682012, (25, 41): 42455.20259, (25, 68): 47678.97748, (25, 69): 51791.615453, (25, 67): 63282.806493, (25, 64): 69212.832577, (25, 66): 71088.817434, (25, 63): 79334.796225, (25, 61): 83660.61637, (25, 62): 85294.651475, (25, 60): 93461.31758700001, (25, 48): 104303.485637, (25, 58): 107164.585852, (25, 57): 110372.92056900001, (25, 54): 117361.25611100001, (25, 53): 124927.84098800001, (25, 52): 126846.540185, (25, 36): 188668.10602500002, (29, 30): 3340.214628, (29, 31): 8634.114706, (29, 32): 10808.801973, (29, 33): 14907.330307, (29, 35): 19279.426849, (29, 38): 26460.309494, (29, 39): 27930.731172, (29, 40): 31049.492158, (29, 41): 35442.012736000004, (29, 68): 40665.787626000005, (29, 69): 44778.425599, (29, 67): 56269.616639, (29, 64): 62199.642723, (29, 66): 64075.62758, (29, 63): 72321.606371, (29, 61): 76647.426516, (29, 62): 78281.46162100001, (29, 60): 86448.12773300002, (29, 48): 97290.29578300001, (29, 58): 100151.395998, (29, 57): 103359.73071500001, (29, 54): 110348.06625700001, (29, 53): 117914.65113400001, (29, 52): 119833.35033100001, (29, 36): 181654.91617100002, (30, 31): 5293.900078, (30, 32): 7468.587345, (30, 33): 11567.115678999999, (30, 35): 15939.212220999998, (30, 38): 23120.094866, (30, 39): 24590.516544, (30, 40): 27709.27753, (30, 41): 32101.798108, (30, 68): 37325.572997999996, (30, 69): 41438.21097099999, (30, 67): 52929.40201099999, (30, 64): 58859.42809499999, (30, 66): 60735.41295199999, (30, 63): 68981.39174299999, (30, 61): 73307.21188799999, (30, 62): 74941.246993, (30, 60): 83107.913105, (30, 48): 93950.08115499999, (30, 58): 96811.18136999999, (30, 57): 100019.516087, (30, 54): 107007.851629, (30, 53): 114574.436506, (30, 52): 116493.13570299999, (30, 36): 178314.701543, (31, 32): 2174.687267, (31, 33): 6273.215601, (31, 35): 10645.312143, (31, 38): 17826.194788, (31, 39): 19296.616466, (31, 40): 22415.377452, (31, 41): 26807.89803, (31, 68): 32031.67292, (31, 69): 36144.310893, (31, 67): 47635.501933, (31, 64): 53565.528017, (31, 66): 55441.512874, (31, 63): 63687.491665, (31, 61): 68013.31181, (31, 62): 69647.346915, (31, 60): 77814.01302700001, (31, 48): 88656.18107700002, (31, 58): 91517.28129200001, (31, 57): 94725.61600900002, (31, 54): 101713.95155100002, (31, 53): 109280.53642800002, (31, 52): 111199.23562500002, (31, 36): 173020.80146500003, (32, 33): 4098.528334, (32, 35): 8470.624876, (32, 38): 15651.507521, (32, 39): 17121.929199, (32, 40): 20240.690185, (32, 41): 24633.210763, (32, 68): 29856.985653, (32, 69): 33969.623626, (32, 67): 45460.814666, (32, 64): 51390.840749999996, (32, 66): 53266.825607, (32, 63): 61512.804398, (32, 61): 65838.624543, (32, 62): 67472.659648, (32, 60): 75639.32576, (32, 48): 86481.49381000001, (32, 58): 89342.59402500001, (32, 57): 92550.92874200002, (32, 54): 99539.26428400002, (32, 53): 107105.84916100002, (32, 52): 109024.54835800001, (32, 36): 170846.11419800002, (33, 35): 4372.096542, (33, 38): 11552.979187, (33, 39): 13023.400865000001, (33, 40): 16142.161851, (33, 41): 20534.682429, (33, 68): 25758.457319, (33, 69): 29871.095292, (33, 67): 41362.286332, (33, 64): 47292.312416, (33, 66): 49168.297273000004, (33, 63): 57414.276064000005, (33, 61): 61740.096209, (33, 62): 63374.131314000006, (33, 60): 71540.797426, (33, 48): 82382.96547600001, (33, 58): 85244.06569100001, (33, 57): 88452.40040800002, (33, 54): 95440.73595000002, (33, 53): 103007.32082700002, (33, 52): 104926.02002400001, (33, 36): 166747.58586400002, (35, 38): 7180.882645, (35, 39): 8651.304323, (35, 40): 11770.065309, (35, 41): 16162.585887, (35, 68): 21386.360776999998, (35, 69): 25498.99875, (35, 67): 36990.18979, (35, 64): 42920.215873999994, (35, 66): 44796.200731, (35, 63): 53042.179522, (35, 61): 57367.999667, (35, 62): 59002.034772, (35, 60): 67168.700884, (35, 48): 78010.868934, (35, 58): 80871.969149, (35, 57): 84080.303866, (35, 54): 91068.639408, (35, 53): 98635.224285, (35, 52): 100553.923482, (35, 36): 162375.489322, (38, 39): 1470.421678, (38, 40): 4589.182664, (38, 41): 8981.703242, (38, 68): 14205.478132, (38, 69): 18318.116105, (38, 67): 29809.307145, (38, 64): 35739.333228999996, (38, 66): 37615.318086, (38, 63): 45861.296877, (38, 61): 50187.117022, (38, 62): 51821.152127, (38, 60): 59987.818239, (38, 48): 70829.986289, (38, 58): 73691.08650399999, (38, 57): 76899.421221, (38, 54): 83887.756763, (38, 53): 91454.34164, (38, 52): 93373.040837, (38, 36): 155194.606677, (39, 40): 3118.760986, (39, 41): 7511.281563999999, (39, 68): 12735.056453999998, (39, 69): 16847.694427, (39, 67): 28338.885467, (39, 64): 34268.911551, (39, 66): 36144.896408, (39, 63): 44390.875199, (39, 61): 48716.695344, (39, 62): 50350.730449, (39, 60): 58517.396561, (39, 48): 69359.56461100001, (39, 58): 72220.66482600001, (39, 57): 75428.99954300001, (39, 54): 82417.33508500001, (39, 53): 89983.91996200001, (39, 52): 91902.61915900001, (39, 36): 153724.18499900002, (40, 41): 4392.520578, (40, 68): 9616.295468, (40, 69): 13728.933441000001, (40, 67): 25220.124481, (40, 64): 31150.150565, (40, 66): 33026.135422, (40, 63): 41272.114213, (40, 61): 45597.934358, (40, 62): 47231.969463, (40, 60): 55398.635575, (40, 48): 66240.803625, (40, 58): 69101.90384, (40, 57): 72310.238557, (40, 54): 79298.574099, (40, 53): 86865.158976, (40, 52): 88783.858173, (40, 36): 150605.424013, (41, 68): 5223.77489, (41, 69): 9336.412863, (41, 67): 20827.603903, (41, 64): 26757.629987, (41, 66): 28633.614844, (41, 63): 36879.593635, (41, 61): 41205.413779999995, (41, 62): 42839.448885, (41, 60): 51006.114997, (41, 48): 61848.283047, (41, 58): 64709.383261999996, (41, 57): 67917.717979, (41, 54): 74906.053521, (41, 53): 82472.638398, (41, 52): 84391.33759499999, (41, 36): 146212.903435, (68, 69): 4112.637973, (68, 67): 15603.829012999999, (68, 64): 21533.855097, (68, 66): 23409.839954, (68, 63): 31655.818744999997, (68, 61): 35981.638889999995, (68, 62): 37615.673995, (68, 60): 45782.340106999996, (68, 48): 56624.508157, (68, 58): 59485.608371999995, (68, 57): 62693.94308899999, (68, 54): 69682.278631, (68, 53): 77248.863508, (68, 52): 79167.56270499999, (68, 36): 140989.12854499999, (69, 67): 11491.19104, (69, 64): 17421.217124, (69, 66): 19297.201981, (69, 63): 27543.180772, (69, 61): 31869.000916999998, (69, 62): 33503.036022, (69, 60): 41669.702134, (69, 48): 52511.870184, (69, 58): 55372.970399, (69, 57): 58581.305115999996, (69, 54): 65569.64065799999, (69, 53): 73136.22553499999, (69, 52): 75054.92473199998, (69, 36): 136876.49057199998, (67, 64): 5930.026084, (67, 66): 7806.0109410000005, (67, 63): 16051.989732, (67, 61): 20377.809877, (67, 62): 22011.844982, (67, 60): 30178.511093999998, (67, 48): 41020.679143999994, (67, 58): 43881.77935899999, (67, 57): 47090.11407599999, (67, 54): 54078.44961799999, (67, 53): 61645.03449499999, (67, 52): 63563.733691999994, (67, 36): 125385.299532, (64, 66): 1875.984857, (64, 63): 10121.963647999999, (64, 61): 14447.783792999999, (64, 62): 16081.818897999998, (64, 60): 24248.485009999997, (64, 48): 35090.65306, (64, 58): 37951.753274999995, (64, 57): 41160.08799199999, (64, 54): 48148.423533999994, (64, 53): 55715.008410999995, (64, 52): 57633.707608, (64, 36): 119455.27344799999, (66, 63): 8245.978791, (66, 61): 12571.798936, (66, 62): 14205.834040999998, (66, 60): 22372.500152999997, (66, 48): 33214.668202999994, (66, 58): 36075.76841799999, (66, 57): 39284.10313499999, (66, 54): 46272.43867699999, (66, 53): 53839.02355399999, (66, 52): 55757.722750999994, (66, 36): 117579.28859099999, (63, 61): 4325.820145, (63, 62): 5959.85525, (63, 60): 14126.521362, (63, 48): 24968.689412, (63, 58): 27829.789627, (63, 57): 31038.124344, (63, 54): 38026.459886, (63, 53): 45593.044763, (63, 52): 47511.74396, (63, 36): 109333.3098, (61, 62): 1634.035105, (61, 60): 9800.701217, (61, 48): 20642.869267000002, (61, 58): 23503.969482, (61, 57): 26712.304199000002, (61, 54): 33700.639741, (61, 53): 41267.224618, (61, 52): 43185.923815, (61, 36): 105007.48965500001, (62, 60): 8166.666112, (62, 48): 19008.834162, (62, 58): 21869.934376999998, (62, 57): 25078.269094, (62, 54): 32066.604636, (62, 53): 39633.189513, (62, 52): 41551.88871, (62, 36): 103373.45455, (60, 48): 10842.16805, (60, 58): 13703.268265, (60, 57): 16911.602982, (60, 54): 23899.938524, (60, 53): 31466.523401000002, (60, 52): 33385.222598, (60, 36): 95206.788438, (48, 58): 2861.100215, (48, 57): 6069.434932, (48, 54): 13057.770474, (48, 53): 20624.355351000002, (48, 52): 22543.054548, (48, 36): 84364.62038800001, (58, 57): 3208.334717, (58, 54): 10196.670259, (58, 53): 17763.255136, (58, 52): 19681.954333, (58, 36): 81503.520173, (57, 54): 6988.335542, (57, 53): 14554.920419, (57, 52): 16473.619616, (57, 36): 78295.185456, (54, 53): 7566.584877, (54, 52): 9485.284074, (54, 36): 71306.849914, (53, 52): 1918.699197, (53, 36): 63740.265037000005, (52, 36): 61821.56584}\n"
     ]
    }
   ],
   "source": [
    "# cost of a stage\n",
    "def d_stage(i, j):\n",
    "    i_idx, j_idx = path.index(i), path.index(j)\n",
    "    if i_idx >= j_idx: return math.inf\n",
    "    sub_path = path[i_idx:j_idx+1]\n",
    "    return sum(d(sub_path[k], sub_path[k+1]) for k in range(len(sub_path)-1))\n",
    "\n",
    "# create the logical graph\n",
    "N_logical = N\n",
    "A_logical = {}\n",
    "for i in range(len(path)):\n",
    "    for j in range(i+1, len(path)):\n",
    "        A_logical[(path[i], path[j])] = d_stage(path[i], path[j])\n",
    "\n",
    "print(A_logical)"
   ]
  },
  {
   "cell_type": "code",
   "execution_count": 111,
   "id": "F29pxMjAT7n5",
   "metadata": {
    "id": "F29pxMjAT7n5"
   },
   "outputs": [
    {
     "name": "stdout",
     "output_type": "stream",
     "text": [
      "Starting solution of the Linear programming relaxation problem using Dual Simplex\n",
      "\n",
      "Coin0506I Presolve 991 (0) rows, 947 (0) columns and 4687 (-43) elements\n",
      "Clp0014I Perturbing problem by 0.001% of 691.82399 - largest nonzero change 0.00053340065 ( 7.710063e-05%) - largest zero change 0.00053214704\n",
      "Clp0006I 0  Obj 0 Primal inf 35.429855 (2)\n",
      "Clp0000I Optimal - objective value 3353.604\n",
      "Clp0032I Optimal objective 3353.603962 - 194 iterations time 0.002\n",
      "\n",
      "Starting MIP optimization\n",
      "Cgl0004I processed model has 991 rows, 947 columns (946 integer (946 of which binary)) and 4730 elements\n",
      "Coin3009W Conflict graph built in 0.001 seconds, density: 0.254%\n",
      "Cgl0015I Clique Strengthening extended 0 cliques, 0 were dominated\n",
      "Cbc0045I Nauty did not find any useful orbits in time 0.012385\n",
      "Cbc0038I Initial state - 120 integers unsatisfied sum - 2.70054\n",
      "Cbc0038I Pass   1: suminf.    0.00000 (0) obj. 299615 iterations 143\n",
      "Cbc0038I Solution found of 299615\n",
      "Cbc0038I Relaxing continuous gives 299615\n",
      "Cbc0038I Before mini branch and bound, 826 integers at bound fixed and 0 continuous\n",
      "Cbc0038I Full problem 991 rows 947 columns, reduced to 161 rows 117 columns\n",
      "Cbc0038I Mini branch and bound improved solution from 299615 to 120550 (0.09 seconds)\n",
      "Cbc0038I Round again with cutoff of 108831\n",
      "Cbc0038I Pass   2: suminf.    1.22045 (5) obj. 108831 iterations 2\n",
      "Cbc0038I Pass   3: suminf.    1.18776 (5) obj. 108831 iterations 6\n",
      "Cbc0038I Pass   4: suminf.    1.45294 (4) obj. 108831 iterations 10\n",
      "Cbc0038I Pass   5: suminf.    0.85102 (5) obj. 108831 iterations 11\n",
      "Cbc0038I Pass   6: suminf.    1.22045 (5) obj. 108831 iterations 5\n",
      "Cbc0038I Pass   7: suminf.    0.47928 (10) obj. 108831 iterations 74\n",
      "Cbc0038I Pass   8: suminf.    0.39609 (5) obj. 108831 iterations 49\n",
      "Cbc0038I Pass   9: suminf.    1.45196 (4) obj. 108831 iterations 26\n",
      "Cbc0038I Pass  10: suminf.    1.08897 (3) obj. 108831 iterations 19\n",
      "Cbc0038I Pass  11: suminf.    1.04200 (5) obj. 108831 iterations 31\n",
      "Cbc0038I Pass  12: suminf.    1.45196 (4) obj. 108831 iterations 33\n",
      "Cbc0038I Pass  13: suminf.    0.36036 (7) obj. 108831 iterations 59\n",
      "Cbc0038I Pass  14: suminf.    0.14297 (3) obj. 108831 iterations 41\n",
      "Cbc0038I Pass  15: suminf.    1.35708 (8) obj. 108831 iterations 74\n",
      "Cbc0038I Pass  16: suminf.    1.22045 (5) obj. 108831 iterations 42\n",
      "Cbc0038I Pass  17: suminf.    1.18776 (5) obj. 108831 iterations 26\n",
      "Cbc0038I Pass  18: suminf.    1.45294 (4) obj. 108831 iterations 50\n",
      "Cbc0038I Pass  19: suminf.    0.85102 (5) obj. 108831 iterations 49\n",
      "Cbc0038I Pass  20: suminf.    1.22045 (5) obj. 108831 iterations 42\n",
      "Cbc0038I Pass  21: suminf.    0.80502 (12) obj. 108831 iterations 103\n",
      "Cbc0038I Pass  22: suminf.    0.17289 (7) obj. 108831 iterations 85\n",
      "Cbc0038I Pass  23: suminf.    1.22045 (5) obj. 108831 iterations 41\n",
      "Cbc0038I Pass  24: suminf.    1.18776 (5) obj. 108831 iterations 27\n",
      "Cbc0038I Pass  25: suminf.    1.45294 (4) obj. 108831 iterations 61\n",
      "Cbc0038I Pass  26: suminf.    0.85102 (5) obj. 108831 iterations 45\n",
      "Cbc0038I Pass  27: suminf.    1.22045 (5) obj. 108831 iterations 52\n",
      "Cbc0038I Pass  28: suminf.    0.24874 (4) obj. 108831 iterations 90\n",
      "Cbc0038I Solution found of 108831\n",
      "Cbc0038I Relaxing continuous gives 86597\n",
      "Cbc0038I Before mini branch and bound, 791 integers at bound fixed and 0 continuous\n",
      "Cbc0038I Full problem 991 rows 947 columns, reduced to 199 rows 155 columns\n",
      "Cbc0038I Mini branch and bound improved solution from 86597 to 84364.6 (0.14 seconds)\n",
      "Cbc0038I Round again with cutoff of 68162.4\n",
      "Cbc0038I Pass  29: suminf.    1.77250 (5) obj. 68162.4 iterations 0\n",
      "Cbc0038I Pass  30: suminf.    1.79719 (5) obj. 68162.4 iterations 5\n",
      "Cbc0038I Pass  31: suminf.    1.54871 (9) obj. 68162.4 iterations 68\n",
      "Cbc0038I Pass  32: suminf.    1.16406 (9) obj. 68162.4 iterations 60\n",
      "Cbc0038I Pass  33: suminf.    1.82354 (7) obj. 68162.4 iterations 74\n",
      "Cbc0038I Pass  34: suminf.    1.82354 (7) obj. 68162.4 iterations 0\n",
      "Cbc0038I Pass  35: suminf.    2.12615 (6) obj. 68162.4 iterations 30\n",
      "Cbc0038I Pass  36: suminf.    1.77250 (5) obj. 68162.4 iterations 25\n",
      "Cbc0038I Pass  37: suminf.    1.79719 (5) obj. 68162.4 iterations 28\n",
      "Cbc0038I Pass  38: suminf.    3.94734 (14) obj. 68162.4 iterations 89\n",
      "Cbc0038I Pass  39: suminf.    1.38021 (5) obj. 68162.4 iterations 46\n",
      "Cbc0038I Pass  40: suminf.    1.28817 (5) obj. 68162.4 iterations 17\n",
      "Cbc0038I Pass  41: suminf.    1.27098 (4) obj. 68162.4 iterations 12\n",
      "Cbc0038I Pass  42: suminf.    1.02168 (8) obj. 68162.4 iterations 82\n",
      "Cbc0038I Pass  43: suminf.    1.73249 (5) obj. 68162.4 iterations 36\n",
      "Cbc0038I Pass  44: suminf.    1.73249 (7) obj. 68162.4 iterations 31\n",
      "Cbc0038I Pass  45: suminf.    1.96450 (7) obj. 68162.4 iterations 38\n",
      "Cbc0038I Pass  46: suminf.    2.49909 (9) obj. 68162.4 iterations 55\n",
      "Cbc0038I Pass  47: suminf.    1.53323 (6) obj. 68162.4 iterations 37\n",
      "Cbc0038I Pass  48: suminf.    1.58174 (5) obj. 68162.4 iterations 52\n",
      "Cbc0038I Pass  49: suminf.    1.46049 (7) obj. 68162.4 iterations 41\n",
      "Cbc0038I Pass  50: suminf.    1.93626 (6) obj. 68162.4 iterations 39\n",
      "Cbc0038I Pass  51: suminf.    1.56416 (5) obj. 68162.4 iterations 26\n",
      "Cbc0038I Pass  52: suminf.    1.51069 (5) obj. 68162.4 iterations 29\n",
      "Cbc0038I Pass  53: suminf.    1.41962 (5) obj. 68162.4 iterations 29\n",
      "Cbc0038I Pass  54: suminf.    1.71688 (5) obj. 68162.4 iterations 52\n",
      "Cbc0038I Pass  55: suminf.    1.46918 (5) obj. 68162.4 iterations 1\n",
      "Cbc0038I Pass  56: suminf.    1.46049 (7) obj. 68162.4 iterations 10\n",
      "Cbc0038I Pass  57: suminf.    1.93626 (6) obj. 68162.4 iterations 32\n",
      "Cbc0038I Pass  58: suminf.    1.56416 (5) obj. 68162.4 iterations 26\n",
      "Cbc0038I No solution found this major pass\n",
      "Cbc0038I Before mini branch and bound, 791 integers at bound fixed and 0 continuous\n",
      "Cbc0038I Full problem 991 rows 947 columns, reduced to 198 rows 154 columns\n",
      "Cbc0038I Mini branch and bound improved solution from 84364.6 to 71306.8 (0.18 seconds)\n",
      "Cbc0038I Round again with cutoff of 48719.8\n",
      "Cbc0038I Pass  58: suminf.    1.83739 (7) obj. 48719.8 iterations 1\n",
      "Cbc0038I Pass  59: suminf.    1.86198 (7) obj. 48719.8 iterations 9\n",
      "Cbc0038I Pass  60: suminf.    4.75390 (16) obj. 48719.8 iterations 79\n",
      "Cbc0038I Pass  61: suminf.    2.46028 (10) obj. 48719.8 iterations 47\n",
      "Cbc0038I Pass  62: suminf.    2.61758 (7) obj. 48719.8 iterations 58\n",
      "Cbc0038I Pass  63: suminf.    1.80879 (9) obj. 48719.8 iterations 32\n",
      "Cbc0038I Pass  64: suminf.    1.87677 (9) obj. 48719.8 iterations 53\n",
      "Cbc0038I Pass  65: suminf.    4.45290 (16) obj. 48719.8 iterations 57\n",
      "Cbc0038I Pass  66: suminf.    2.36787 (11) obj. 48719.8 iterations 59\n",
      "Cbc0038I Pass  67: suminf.    1.76379 (5) obj. 48719.8 iterations 59\n",
      "Cbc0038I Pass  68: suminf.    1.74895 (5) obj. 48719.8 iterations 39\n",
      "Cbc0038I Pass  69: suminf.    1.76379 (5) obj. 48719.8 iterations 38\n",
      "Cbc0038I Pass  70: suminf.    3.63894 (17) obj. 48719.8 iterations 69\n",
      "Cbc0038I Pass  71: suminf.    1.82628 (10) obj. 48719.8 iterations 70\n",
      "Cbc0038I Pass  72: suminf.    2.60561 (9) obj. 48719.8 iterations 80\n",
      "Cbc0038I Pass  73: suminf.    1.83739 (7) obj. 48719.8 iterations 61\n",
      "Cbc0038I Pass  74: suminf.    1.86198 (7) obj. 48719.8 iterations 42\n",
      "Cbc0038I Pass  75: suminf.    3.99023 (14) obj. 48719.8 iterations 90\n",
      "Cbc0038I Pass  76: suminf.    2.14342 (8) obj. 48719.8 iterations 71\n",
      "Cbc0038I Pass  77: suminf.    2.21739 (10) obj. 48719.8 iterations 50\n",
      "Cbc0038I Pass  78: suminf.    2.18093 (10) obj. 48719.8 iterations 23\n",
      "Cbc0038I Pass  79: suminf.    2.08077 (9) obj. 48719.8 iterations 50\n",
      "Cbc0038I Pass  80: suminf.    1.80515 (7) obj. 48719.8 iterations 37\n",
      "Cbc0038I Pass  81: suminf.    1.84946 (7) obj. 48719.8 iterations 52\n",
      "Cbc0038I Pass  82: suminf.    2.32999 (11) obj. 48719.8 iterations 77\n",
      "Cbc0038I Pass  83: suminf.    1.82302 (10) obj. 48719.8 iterations 123\n",
      "Cbc0038I Pass  84: suminf.    1.83739 (9) obj. 48719.8 iterations 61\n",
      "Cbc0038I Pass  85: suminf.    1.83739 (7) obj. 48719.8 iterations 3\n",
      "Cbc0038I Pass  86: suminf.    1.86198 (7) obj. 48719.8 iterations 47\n",
      "Cbc0038I Pass  87: suminf.    5.99026 (17) obj. 48719.8 iterations 89\n",
      "Cbc0038I No solution found this major pass\n",
      "Cbc0038I Before mini branch and bound, 751 integers at bound fixed and 0 continuous\n",
      "Cbc0038I Full problem 991 rows 947 columns, reduced to 240 rows 196 columns\n",
      "Cbc0038I Mini branch and bound did not improve solution (0.24 seconds)\n",
      "Cbc0038I After 0.24 seconds - Feasibility pump exiting with objective of 71306.8 - took 0.21 seconds\n",
      "Cbc0012I Integer solution of 71306.85 found by feasibility pump after 0 iterations and 0 nodes (0.24 seconds)\n",
      "Cbc0038I Full problem 991 rows 947 columns, reduced to 165 rows 121 columns\n",
      "Cbc0012I Integer solution of 64075.628 found by DiveCoefficient after 282 iterations and 0 nodes (0.32 seconds)\n",
      "Cbc0031I 10 added rows had average density of 2.2\n",
      "Cbc0013I At root node, 10 cuts changed objective from 3353.604 to 61821.566 in 10 passes\n",
      "Cbc0014I Cut generator 0 (Probing) - 1193 row cuts average 3.0 elements, 2 column cuts (2 active)  in 0.021 seconds - new frequency is 1\n",
      "Cbc0014I Cut generator 1 (Gomory) - 8 row cuts average 4.0 elements, 0 column cuts (0 active)  in 0.003 seconds - new frequency is 1\n",
      "Cbc0014I Cut generator 2 (Knapsack) - 0 row cuts average 0.0 elements, 0 column cuts (0 active)  in 0.004 seconds - new frequency is -100\n",
      "Cbc0014I Cut generator 3 (Clique) - 0 row cuts average 0.0 elements, 0 column cuts (0 active)  in 0.000 seconds - new frequency is -100\n",
      "Cbc0014I Cut generator 4 (OddWheel) - 0 row cuts average 0.0 elements, 0 column cuts (0 active)  in 0.000 seconds - new frequency is -100\n",
      "Cbc0014I Cut generator 5 (MixedIntegerRounding2) - 0 row cuts average 0.0 elements, 0 column cuts (0 active)  in 0.001 seconds - new frequency is -100\n",
      "Cbc0014I Cut generator 6 (FlowCover) - 0 row cuts average 0.0 elements, 0 column cuts (0 active)  in 0.001 seconds - new frequency is -100\n",
      "Cbc0014I Cut generator 7 (TwoMirCuts) - 13 row cuts average 60.2 elements, 0 column cuts (0 active)  in 0.003 seconds - new frequency is 1\n",
      "Cbc0010I After 0 nodes, 1 on tree, 64075.628 best solution, best possible 61821.566 (0.33 seconds)\n",
      "Cbc0016I Integer solution of 63740.265 found by strong branching after 356 iterations and 1 nodes (0.33 seconds)\n",
      "Cbc0012I Integer solution of 62441.919 found by rounding after 359 iterations and 2 nodes (0.33 seconds)\n",
      "Cbc0012I Integer solution of 61821.566 found by rounding after 373 iterations and 3 nodes (0.34 seconds)\n",
      "Cbc0001I Search completed - best objective 61821.56584, took 373 iterations and 3 nodes (0.34 seconds)\n",
      "Cbc0032I Strong branching done 26 times (240 iterations), fathomed 1 nodes and fixed 1 variables\n",
      "Cbc0035I Maximum depth 1, 247 variables fixed on reduced cost\n",
      "Total time (CPU seconds):       0.35   (Wallclock seconds):       0.35\n",
      "\n"
     ]
    },
    {
     "data": {
      "text/plain": [
       "<OptimizationStatus.OPTIMAL: 0>"
      ]
     },
     "execution_count": 111,
     "metadata": {},
     "output_type": "execute_result"
    }
   ],
   "source": [
    "import mip\n",
    "# Create model\n",
    "m = mip.Model()\n",
    "\n",
    "# define the variables\n",
    "x = {(i, j): m.add_var(var_type=mip.BINARY) for (i, j) in A_logical}            # decisions: arc (i, j) belongs to the path\n",
    "D = m.add_var()                                                                 # dummy variable for min-max linearization\n",
    "\n",
    "#  define the contraints\n",
    "\n",
    "m.add_constr( mip.xsum(x[(i, j)] for (i, j) in A_logical if i == 0) == 1 )      # source node -> 1 outgoing arc\n",
    "m.add_constr( mip.xsum(x[(i, j)] for (i, j) in A_logical if j == 36) == 1 )     # destination node -> 1 ingoing arc\n",
    "\n",
    "# two arcs or zero for each other node\n",
    "for i in N:\n",
    "  if i != 0 and i != 36:\n",
    "    m.add_constr( mip.xsum(x[(n_in, n_out)] for n_in, n_out in A_logical if n_out == i)\n",
    "                  - mip.xsum(x[(n_in, n_out)] for n_in, n_out in A_logical if n_in == i) == 0 )\n",
    "\n",
    "\n",
    "budget = 10000\n",
    "m.add_constr( mip.xsum(x[(i, j)] * c(i, j) for i, j in A_logical) <= budget )   # budget constraint\n",
    "\n",
    "for (i, j) in A_logical:\n",
    "  m.add_constr( D >= x[(i, j)] * A_logical[(i, j)] )                            # dummy variable constraint\n",
    "\n",
    "# optimize objective function\n",
    "m.objective = mip.minimize( D )\n",
    "\n",
    "m.optimize()"
   ]
  },
  {
   "cell_type": "code",
   "execution_count": 112,
   "id": "6438bde8",
   "metadata": {},
   "outputs": [
    {
     "name": "stdout",
     "output_type": "stream",
     "text": [
      "Objective function (max distance between stops): 61821.56584\n",
      "Total cost for this solution: + 9890.0 (budget: 10000)\n",
      "Stops selected:\n",
      "[0, 86, 18, 30, 64, 52, 36]\n"
     ]
    }
   ],
   "source": [
    "# print solution details\n",
    "path_stages = []\n",
    "print(f\"Objective function (max distance between stops): {D.x}\")\n",
    "print(f\"Total cost for this solution: {mip.xsum(x[(i, j)].x * c(i, j) for i, j in A_logical)} (budget: {budget})\")\n",
    "\n",
    "for t, x_i in x.items():\n",
    "  if x_i.x != 0:\n",
    "    path_stages.append(t)\n",
    "stops = list(sum(path_stages, ()))\n",
    "stops = list(dict.fromkeys(stops))\n",
    "\n",
    "print(\"Stops selected:\")\n",
    "print(stops)"
   ]
  },
  {
   "cell_type": "code",
   "execution_count": 127,
   "id": "t0HUue7slLVH",
   "metadata": {
    "id": "t0HUue7slLVH"
   },
   "outputs": [
    {
     "data": {
      "text/plain": [
       "[<matplotlib.patches.FancyArrowPatch at 0x7f7e82971250>,\n",
       " <matplotlib.patches.FancyArrowPatch at 0x7f7e82d46e50>,\n",
       " <matplotlib.patches.FancyArrowPatch at 0x7f7e82e5f390>,\n",
       " <matplotlib.patches.FancyArrowPatch at 0x7f7e82e5cdd0>,\n",
       " <matplotlib.patches.FancyArrowPatch at 0x7f7e82e174d0>,\n",
       " <matplotlib.patches.FancyArrowPatch at 0x7f7e82e65290>]"
      ]
     },
     "execution_count": 127,
     "metadata": {},
     "output_type": "execute_result"
    },
    {
     "data": {
      "image/png": "[encoded data removed]",
      "text/plain": [
       "<Figure size 640x480 with 1 Axes>"
      ]
     },
     "metadata": {},
     "output_type": "display_data"
    }
   ],
   "source": [
    "#plot the graph\n",
    "G = nx.DiGraph()\n",
    "G.add_nodes_from(N)\n",
    "G.add_edges_from(path_stages)\n",
    "nx.draw_networkx_nodes(G, pos=pos, node_size=100, nodelist=N-set(stops))\n",
    "nx.draw_networkx_labels(G,pos=pos, font_size=8)\n",
    "stops = tuple(sum(path_stages, ()))\n",
    "nx.draw_networkx_nodes(G, pos=pos, node_color=\"red\", nodelist=stops, node_size=120)\n",
    "nx.draw_networkx_edges(G, edgelist=path_edges, pos=pos)\n",
    "nx.draw_networkx_edges(G, edgelist=path_stages, pos=pos, edge_color=\"red\")"
   ]
  },
  {
   "cell_type": "code",
   "execution_count": null,
   "id": "U9zSeGbJkZ9t",
   "metadata": {
    "id": "U9zSeGbJkZ9t"
   },
   "outputs": [],
   "source": [
    "# parametric analysis\n",
    "\n",
    "\n",
    "\n",
    "#TO DO\n",
    "\n",
    "\n",
    "# SPT su grafo da 0 al nodo tc è minimizzato il path\n",
    "# SPT come fatto in precedenza su grafo ordinato topologicamente come al punto precedente\n"
   ]
  }
 ],
 "metadata": {
  "colab": {
   "provenance": []
  },
  "kernelspec": {
   "display_name": "Python 3 (ipykernel)",
   "language": "python",
   "name": "python3"
  },
  "language_info": {
   "codemirror_mode": {
    "name": "ipython",
    "version": 3
   },
   "file_extension": ".py",
   "mimetype": "text/x-python",
   "name": "python",
   "nbconvert_exporter": "python",
   "pygments_lexer": "ipython3",
   "version": "3.11.7"
  }
 },
 "nbformat": 4,
 "nbformat_minor": 5
}
