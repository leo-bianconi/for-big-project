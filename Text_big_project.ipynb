{
 "cells": [
  {
   "cell_type": "markdown",
   "id": "4197923e",
   "metadata": {
    "id": "k435Psgdexbb"
   },
   "source": [
    "# Big project activity"
   ]
  },
  {
   "cell_type": "markdown",
   "id": "k435Psgdexbb",
   "metadata": {
    "id": "k435Psgdexbb"
   },
   "source": [
    "## Optimal chargin station location"
   ]
  },
  {
   "cell_type": "markdown",
   "id": "71e8cba3",
   "metadata": {
    "id": "71e8cba3"
   },
   "source": [
    "### 1.Introduction\n",
    "\n",
    "Consider a long linear cycle path  as Vento, or the Danube cycle path. The cycle path usually runs along the banks of a river with scarse tourist interest. However, from the main course of the cycle path it is possible to reach places of tourist interest by making small detours.  \n",
    "\n",
    "The rapid growth of e-bike ridership is proposing the problem of deploying a suitable charging infrastructure. The charging stations should be placed in strategic positions so as to guarantee a coverage of the whole cycle path. However, since the charging operations require a non negligible time, the charging station should be positioned in places where alternative activities could be carried out, as restaurants, museums, swimming pool, or other amenities. Moreover, the presence of a charging station could also induce e-cyclists to discover new places and generate positive externalities.\n",
    "\n"
   ]
  },
  {
   "cell_type": "markdown",
   "id": "F5J-AOngfJfC",
   "metadata": {
    "id": "F5J-AOngfJfC"
   },
   "source": [
    "### 2.Decision problem\n",
    "We can represent the cycle path as a graph where the set of nodes $H = \\{1,\\ldots,n\\}$ corresponds to the tourist sites that may host a charging station.\n",
    "In addition we are given the distances between touristic site ($d_{ij},$ with $ i,j =1,\\ldots,n$). Let $c_i$ be the cost of installing a charging station in site $i, i=1\\ldots,n$.\n",
    "\n",
    "\n",
    "The problem is, given a budget $b$, determine the subset of sites $S\\subseteq H$ where to install the charging stations so that the total cost is not higher than $b$ and the maximum distance between consecutive charging stations is minimized.\n",
    "Consider that the cyclist has to visit all the touristic destination in a consecutive way.\n",
    "\n"
   ]
  },
  {
   "cell_type": "markdown",
   "id": "6f1SzgfSfXlb",
   "metadata": {
    "id": "6f1SzgfSfXlb"
   },
   "source": [
    "### 3.Problem characteristics\n",
    "There are 2 csv files that contain the information of the cycle way, they are essential to build the equivalent graph:\n",
    "\n",
    "\n",
    "*    in the \"nodes.csv\" file there are all the destinations that the cyclist can reach, with their spatial coordinates and the value of installation costs related to that destination. Consider that the \"tourist-dest-id\" is not the graph node number but it is an unique id to identify the destination.\n",
    "*   in the \"OD.csv\" you can find all the arcs between two different nodes, keep attention that the condition of visiting consecutive touristic destination must be respected.\n",
    "\n",
    "The set of nodes $N$ is defined by $\\{0,1,\\ldots,n, n+1\\}$.  The Arcs $A$ correspond to the portion of cycle path between two consecutive charging stations. We assume that potentially e-riders will visit all sites along the way making the suitable deviations and going back to the main path at the initial point of the detour.\n",
    "The cost associated with each  arc $(i,j)$ is given by $c_j$, thus the cost of installing a charging station in $j$. These costs are defined for all arcs in $A$, while they are set to 0 for all the arcs that arrive in the last node.\n",
    "The path starts in node $s = 0$ and ends in node $t = n+1$, these two nodes are connected to the nearest touristic site with an arc of null length.\n",
    "\n",
    "### 4.Example of linear path with deviation\n",
    "![picture](https://drive.google.com/uc?export=view&id=1w16bHtbu0FGGL-UntxeqxD7244D3eHbJ)"
   ]
  },
  {
   "cell_type": "code",
   "execution_count": null,
   "id": "77067c0c",
   "metadata": {},
   "outputs": [],
   "source": []
  },
  {
   "cell_type": "markdown",
   "id": "C3mv0MBqf-7F",
   "metadata": {
    "id": "C3mv0MBqf-7F"
   },
   "source": [
    "### 5.Requirements\n",
    "The requirements of the problem are:\n",
    "\n",
    "\n",
    "*   the maximum running time of the algorithm must be 5 minutes, so set the proper timer\n",
    "*   create the equivalent graph and display it on a xy-plot\n",
    "*   find the solution for the basic scenario, with a mip model, displaying the solution with a xy-plot, the budget constrain is $b = 10000\\ € $.\n",
    "*   Find the optimal solution for 5 different values of budget in the range $[10000, 100000]$. Select the values of the budget so as to have different charger locations.\n",
    "\n",
    "  You have to motivate you choice and the solution you get. They can also be not common solution if they are well motivated. To support your decision and explanations you can print plots or tables. You can also compare different scenarios.\n",
    "\n",
    "\n",
    "   \n",
    "If you have some doubts related to the parametric analysis prof. Cubillos uploaded a notebook with the solution on WeBeeP and you can have a look there."
   ]
  },
  {
   "cell_type": "markdown",
   "id": "83391c72",
   "metadata": {},
   "source": [
    "### Insert student name and student ID\n",
    "\n",
    "student1:\n",
    "\n",
    "ID1:\n",
    "\n",
    "student2:\n",
    "\n",
    "ID2:\n",
    "\n",
    "student3\n",
    "\n",
    "ID3:\n",
    "\n"
   ]
  },
  {
   "cell_type": "code",
   "execution_count": 3,
   "id": "1Wtgd9v5j6QG",
   "metadata": {
    "id": "1Wtgd9v5j6QG"
   },
   "outputs": [],
   "source": [
    "#install libraries\n",
    "\n",
    "#!pip install mip\n",
    "#!pip install --upgrade cffi==1.15.0"
   ]
  },
  {
   "cell_type": "code",
   "execution_count": 4,
   "id": "6ac6b084",
   "metadata": {
    "id": "6ac6b084"
   },
   "outputs": [],
   "source": [
    "#import libraries\n",
    "import matplotlib as pl\n",
    "import mip\n",
    "import pandas as pd\n",
    "import importlib\n",
    "import cffi\n",
    "importlib.reload(cffi)\n",
    "import numpy as np\n",
    "import math\n",
    "import networkx as nx\n",
    "import random\n",
    "import time\n"
   ]
  },
  {
   "cell_type": "code",
   "execution_count": 5,
   "id": "Sy8XNds0ieqh",
   "metadata": {
    "id": "Sy8XNds0ieqh"
   },
   "outputs": [
    {
     "data": {
      "text/html": [
       "<div>\n",
       "<style scoped>\n",
       "    .dataframe tbody tr th:only-of-type {\n",
       "        vertical-align: middle;\n",
       "    }\n",
       "\n",
       "    .dataframe tbody tr th {\n",
       "        vertical-align: top;\n",
       "    }\n",
       "\n",
       "    .dataframe thead th {\n",
       "        text-align: right;\n",
       "    }\n",
       "</style>\n",
       "<table border=\"1\" class=\"dataframe\">\n",
       "  <thead>\n",
       "    <tr style=\"text-align: right;\">\n",
       "      <th></th>\n",
       "      <th>origin_id</th>\n",
       "      <th>destination_id</th>\n",
       "      <th>distance [m]</th>\n",
       "    </tr>\n",
       "  </thead>\n",
       "  <tbody>\n",
       "    <tr>\n",
       "      <th>0</th>\n",
       "      <td>0</td>\n",
       "      <td>0</td>\n",
       "      <td>NaN</td>\n",
       "    </tr>\n",
       "    <tr>\n",
       "      <th>1</th>\n",
       "      <td>0</td>\n",
       "      <td>17</td>\n",
       "      <td>43798.08450</td>\n",
       "    </tr>\n",
       "    <tr>\n",
       "      <th>2</th>\n",
       "      <td>0</td>\n",
       "      <td>18</td>\n",
       "      <td>47252.99168</td>\n",
       "    </tr>\n",
       "    <tr>\n",
       "      <th>3</th>\n",
       "      <td>0</td>\n",
       "      <td>20</td>\n",
       "      <td>57171.88493</td>\n",
       "    </tr>\n",
       "    <tr>\n",
       "      <th>4</th>\n",
       "      <td>0</td>\n",
       "      <td>21</td>\n",
       "      <td>62260.57345</td>\n",
       "    </tr>\n",
       "  </tbody>\n",
       "</table>\n",
       "</div>"
      ],
      "text/plain": [
       "   origin_id  destination_id  distance [m]\n",
       "0          0               0           NaN\n",
       "1          0              17   43798.08450\n",
       "2          0              18   47252.99168\n",
       "3          0              20   57171.88493\n",
       "4          0              21   62260.57345"
      ]
     },
     "execution_count": 5,
     "metadata": {},
     "output_type": "execute_result"
    }
   ],
   "source": [
    "#import the csv file\n",
    "nodes_df = pd.read_csv(\"./nodes.csv\", encoding='cp1252')\n",
    "arcs_df = pd.read_csv(\"./OD.csv\")\n",
    "\n",
    "nodes_df.head()\n",
    "arcs_df.head()"
   ]
  },
  {
   "cell_type": "code",
   "execution_count": 6,
   "id": "kUQ0SWZmk_PS",
   "metadata": {
    "id": "kUQ0SWZmk_PS"
   },
   "outputs": [],
   "source": [
    "#set the timer\n",
    "\n",
    "#TO DO"
   ]
  },
  {
   "cell_type": "code",
   "execution_count": 7,
   "id": "NAk7cwB25Ukr",
   "metadata": {
    "id": "NAk7cwB25Ukr"
   },
   "outputs": [
    {
     "name": "stdout",
     "output_type": "stream",
     "text": [
      "[0, 's', 't', 's', 't', 52, 53, 54, 57, 58, 48, 60, 61, 62, 61, 63, 64, 66, 67, 68, 69, 41, 40, 39, 38, 36, 35, 33, 31, 32, 30, 29, 25, 24, 77, 23, 21, 20, 18, 17, 82, 83, 84, 86, 85, 87, 88, 89, 90, 0, 's', 't', 52, 't', 's', 0]\n"
     ]
    },
    {
     "ename": "IndexError",
     "evalue": "index 0 is out of bounds for axis 0 with size 0",
     "output_type": "error",
     "traceback": [
      "\u001b[0;31m---------------------------------------------------------------------------\u001b[0m",
      "\u001b[0;31mIndexError\u001b[0m                                Traceback (most recent call last)",
      "Cell \u001b[0;32mIn[7], line 60\u001b[0m\n\u001b[1;32m     57\u001b[0m \u001b[38;5;28mprint\u001b[39m(path)\n\u001b[1;32m     59\u001b[0m \u001b[38;5;66;03m# print total path cost\u001b[39;00m\n\u001b[0;32m---> 60\u001b[0m cost \u001b[38;5;241m=\u001b[39m \u001b[38;5;28;43msum\u001b[39;49m\u001b[43m(\u001b[49m\u001b[43md\u001b[49m\u001b[43m(\u001b[49m\u001b[43mi\u001b[49m\u001b[43m,\u001b[49m\u001b[43m \u001b[49m\u001b[43mj\u001b[49m\u001b[43m)\u001b[49m\u001b[43m \u001b[49m\u001b[38;5;28;43;01mfor\u001b[39;49;00m\u001b[43m \u001b[49m\u001b[43mi\u001b[49m\u001b[43m,\u001b[49m\u001b[43m \u001b[49m\u001b[43mj\u001b[49m\u001b[43m \u001b[49m\u001b[38;5;129;43;01min\u001b[39;49;00m\u001b[43m \u001b[49m\u001b[43mpath_edges\u001b[49m\u001b[43m)\u001b[49m\n\u001b[1;32m     61\u001b[0m \u001b[38;5;28mprint\u001b[39m(\u001b[38;5;124m'\u001b[39m\u001b[38;5;124mtotal distance:\u001b[39m\u001b[38;5;124m'\u001b[39m, cost)\n",
      "Cell \u001b[0;32mIn[7], line 60\u001b[0m, in \u001b[0;36m<genexpr>\u001b[0;34m(.0)\u001b[0m\n\u001b[1;32m     57\u001b[0m \u001b[38;5;28mprint\u001b[39m(path)\n\u001b[1;32m     59\u001b[0m \u001b[38;5;66;03m# print total path cost\u001b[39;00m\n\u001b[0;32m---> 60\u001b[0m cost \u001b[38;5;241m=\u001b[39m \u001b[38;5;28msum\u001b[39m(\u001b[43md\u001b[49m\u001b[43m(\u001b[49m\u001b[43mi\u001b[49m\u001b[43m,\u001b[49m\u001b[43m \u001b[49m\u001b[43mj\u001b[49m\u001b[43m)\u001b[49m \u001b[38;5;28;01mfor\u001b[39;00m i, j \u001b[38;5;129;01min\u001b[39;00m path_edges)\n\u001b[1;32m     61\u001b[0m \u001b[38;5;28mprint\u001b[39m(\u001b[38;5;124m'\u001b[39m\u001b[38;5;124mtotal distance:\u001b[39m\u001b[38;5;124m'\u001b[39m, cost)\n",
      "Cell \u001b[0;32mIn[7], line 13\u001b[0m, in \u001b[0;36md\u001b[0;34m(i, j)\u001b[0m\n\u001b[1;32m     11\u001b[0m \u001b[38;5;28;01mdef\u001b[39;00m \u001b[38;5;21md\u001b[39m(i, j):    \u001b[38;5;66;03m# distance function\u001b[39;00m\n\u001b[1;32m     12\u001b[0m     \u001b[38;5;28;01mif\u001b[39;00m i \u001b[38;5;241m==\u001b[39m j: \u001b[38;5;28;01mreturn\u001b[39;00m \u001b[38;5;241m0\u001b[39m\n\u001b[0;32m---> 13\u001b[0m     res \u001b[38;5;241m=\u001b[39m \u001b[43marcs_df\u001b[49m\u001b[38;5;241;43m.\u001b[39;49m\u001b[43mloc\u001b[49m\u001b[43m[\u001b[49m\u001b[43m(\u001b[49m\u001b[43marcs_df\u001b[49m\u001b[43m[\u001b[49m\u001b[38;5;124;43m'\u001b[39;49m\u001b[38;5;124;43morigin_id\u001b[39;49m\u001b[38;5;124;43m'\u001b[39;49m\u001b[43m]\u001b[49m\u001b[43m \u001b[49m\u001b[38;5;241;43m==\u001b[39;49m\u001b[43m \u001b[49m\u001b[43mi\u001b[49m\u001b[43m)\u001b[49m\u001b[43m \u001b[49m\u001b[38;5;241;43m&\u001b[39;49m\u001b[43m \u001b[49m\u001b[43m(\u001b[49m\u001b[43marcs_df\u001b[49m\u001b[43m[\u001b[49m\u001b[38;5;124;43m'\u001b[39;49m\u001b[38;5;124;43mdestination_id\u001b[39;49m\u001b[38;5;124;43m'\u001b[39;49m\u001b[43m]\u001b[49m\u001b[43m \u001b[49m\u001b[38;5;241;43m==\u001b[39;49m\u001b[43m \u001b[49m\u001b[43mj\u001b[49m\u001b[43m)\u001b[49m\u001b[43m,\u001b[49m\u001b[43m \u001b[49m\u001b[38;5;124;43m'\u001b[39;49m\u001b[38;5;124;43mdistance [m]\u001b[39;49m\u001b[38;5;124;43m'\u001b[39;49m\u001b[43m]\u001b[49m\u001b[38;5;241;43m.\u001b[39;49m\u001b[43mvalues\u001b[49m\u001b[43m[\u001b[49m\u001b[38;5;241;43m0\u001b[39;49m\u001b[43m]\u001b[49m\n\u001b[1;32m     14\u001b[0m     \u001b[38;5;28;01mreturn\u001b[39;00m res\n",
      "\u001b[0;31mIndexError\u001b[0m: index 0 is out of bounds for axis 0 with size 0"
     ]
    },
    {
     "data": {
      "image/png": "[encoded data removed]",
      "text/plain": [
       "<Figure size 640x480 with 1 Axes>"
      ]
     },
     "metadata": {},
     "output_type": "display_data"
    }
   ],
   "source": [
    "#build the equivalent graph\n",
    "\n",
    "#define the set of nodes\n",
    "N = set()\n",
    "for index, node in nodes_df.iterrows():\n",
    "    N.add(node.tourist_dest_id)\n",
    "\n",
    "n = len(N)\n",
    "\n",
    "#define the set of edges\n",
    "def d(i, j):    # distance function\n",
    "    if i == j: return 0\n",
    "    res = arcs_df.loc[(arcs_df['origin_id'] == i) & (arcs_df['destination_id'] == j), 'distance [m]'].values[0]\n",
    "    return res\n",
    "\n",
    "def c(i, j):    # cost function\n",
    "    if j == 91: return 0\n",
    "    return nodes_df.loc[(nodes_df['tourist_dest_id'] == j), 'Cost_of_installation [€]'].values[0]\n",
    "\n",
    "A = set()\n",
    "for idx, arc in arcs_df.iterrows():\n",
    "    i = int(arc.origin_id)\n",
    "    j = int(arc.destination_id)\n",
    "    if i < j: A.add((i, j))\n",
    "    \n",
    "A_weighted = [(i, j, {'weight': d(i, j)}) for i, j in A]\n",
    "A_weighted += [ (0, 's', {'weight': 0}) ]\n",
    "A_weighted += [ (52, 't', {'weight': 0}) ]\n",
    "A_weighted += [('s', 't', {'weight': 0})]\n",
    "\n",
    "#build the graph\n",
    "G = nx.Graph()\n",
    "G.add_nodes_from(N)\n",
    "G.add_edges_from(A_weighted)\n",
    "\n",
    "#pos = nx.circular_layout(G)    # another possible layout for nodes\n",
    "pos = {id: (pos_x, pos_y) for id, pos_x, pos_y in nodes_df[['tourist_dest_id', 'x (longitude)', 'y (latitude)']].values}\n",
    "pos['s'] = (9.6, 45.15)\n",
    "pos['t'] = (11, 45.15)\n",
    "nx.draw_networkx_nodes(G, pos=pos, node_size=100)\n",
    "nx.draw_networkx_labels(G,pos=pos, font_size=8)\n",
    "\n",
    "# TSP\n",
    "# Hamiltonian cycle (path), found by using networkX library, and assuming first node is 0 and last node is 52 (by looking at the plot)\n",
    "tsp = nx.approximation.traveling_salesman_problem\n",
    "path = tsp(G, cycle=True, method=nx.approximation.christofides)\n",
    "\n",
    "#path = nx.approximation.simulated_annealing_tsp(G, init_cycle='greedy', weight='weight', source=0, temp=100, move='1-0', max_iterations=10, N_inner=100, alpha=0.01, seed=random.randint(0, 1000))\n",
    "#path = nx.approximation.greedy_tsp(G)\n",
    "\n",
    "# plot the path\n",
    "path_edges = [(path[i], path[i+1]) for i in range(len(path) - 1)]\n",
    "G.add_edges_from(path_edges)\n",
    "\n",
    "#draw the path\n",
    "nx.draw_networkx_edges(G, edgelist=path_edges, pos=pos)\n",
    "print(path)\n",
    "\n",
    "# print total path cost\n",
    "cost = sum(d(i, j) for i, j in path_edges if i in N and j in N)\n",
    "print('total distance:', cost)\n"
   ]
  },
  {
   "cell_type": "code",
   "execution_count": 15,
   "id": "F29pxMjAT7n5",
   "metadata": {
    "id": "F29pxMjAT7n5"
   },
   "outputs": [
    {
     "ename": "KeyboardInterrupt",
     "evalue": "",
     "output_type": "error",
     "traceback": [
      "\u001b[0;31m---------------------------------------------------------------------------\u001b[0m",
      "\u001b[0;31mKeyboardInterrupt\u001b[0m                         Traceback (most recent call last)",
      "Cell \u001b[0;32mIn[15], line 24\u001b[0m\n\u001b[1;32m     21\u001b[0m   \u001b[38;5;28;01mreturn\u001b[39;00m chain\u001b[38;5;241m.\u001b[39mfrom_iterable(combinations(s, r) \u001b[38;5;28;01mfor\u001b[39;00m r \u001b[38;5;129;01min\u001b[39;00m \u001b[38;5;28mrange\u001b[39m(\u001b[38;5;241m1\u001b[39m, \u001b[38;5;28mlen\u001b[39m(s)))\n\u001b[1;32m     23\u001b[0m \u001b[38;5;28;01mfor\u001b[39;00m S \u001b[38;5;129;01min\u001b[39;00m powerset(N):\n\u001b[0;32m---> 24\u001b[0m   m\u001b[38;5;241m.\u001b[39madd_constr( \u001b[43mmip\u001b[49m\u001b[38;5;241;43m.\u001b[39;49m\u001b[43mxsum\u001b[49m\u001b[43m(\u001b[49m\u001b[43mx\u001b[49m\u001b[43m[\u001b[49m\u001b[43m(\u001b[49m\u001b[43mi\u001b[49m\u001b[43m,\u001b[49m\u001b[43m \u001b[49m\u001b[43mj\u001b[49m\u001b[43m)\u001b[49m\u001b[43m]\u001b[49m\u001b[43m \u001b[49m\u001b[38;5;28;43;01mfor\u001b[39;49;00m\u001b[43m \u001b[49m\u001b[43m(\u001b[49m\u001b[43mi\u001b[49m\u001b[43m,\u001b[49m\u001b[43m \u001b[49m\u001b[43mj\u001b[49m\u001b[43m)\u001b[49m\u001b[43m \u001b[49m\u001b[38;5;129;43;01min\u001b[39;49;00m\u001b[43m \u001b[49m\u001b[43mA\u001b[49m\u001b[43m \u001b[49m\u001b[38;5;28;43;01mif\u001b[39;49;00m\u001b[43m \u001b[49m\u001b[43mi\u001b[49m\u001b[43m \u001b[49m\u001b[38;5;129;43;01min\u001b[39;49;00m\u001b[43m \u001b[49m\u001b[43mS\u001b[49m\u001b[43m \u001b[49m\u001b[38;5;129;43;01mand\u001b[39;49;00m\u001b[43m \u001b[49m\u001b[43mj\u001b[49m\u001b[43m \u001b[49m\u001b[38;5;129;43;01mnot\u001b[39;49;00m\u001b[43m \u001b[49m\u001b[38;5;129;43;01min\u001b[39;49;00m\u001b[43m \u001b[49m\u001b[43mS\u001b[49m\u001b[43m)\u001b[49m \u001b[38;5;241m>\u001b[39m\u001b[38;5;241m=\u001b[39m \u001b[38;5;241m1\u001b[39m)  \u001b[38;5;66;03m# connectivity of sets constraint\u001b[39;00m\n\u001b[1;32m     26\u001b[0m \u001b[38;5;124;03m'''b = {}\u001b[39;00m\n\u001b[1;32m     27\u001b[0m \u001b[38;5;124;03mfor idx, node in nodes_df.iterrows():\u001b[39;00m\n\u001b[1;32m     28\u001b[0m \u001b[38;5;124;03m  id = node[0]\u001b[39;00m\n\u001b[0;32m   (...)\u001b[0m\n\u001b[1;32m     36\u001b[0m \u001b[38;5;124;03m      mip.xsum(x[(i, j)] for j in N if (i, j) in A) == b[i] )           # shortest path connectivity constraint\u001b[39;00m\n\u001b[1;32m     37\u001b[0m \u001b[38;5;124;03m  '''\u001b[39;00m\n\u001b[1;32m     38\u001b[0m budget \u001b[38;5;241m=\u001b[39m \u001b[38;5;241m1\u001b[39m\n",
      "File \u001b[0;32m~/Documents/school/4y/for/labs/big-project/.venv/lib/python3.11/site-packages/mip/model.py:1561\u001b[0m, in \u001b[0;36mxsum\u001b[0;34m(terms)\u001b[0m\n\u001b[1;32m   1549\u001b[0m \u001b[38;5;250m\u001b[39m\u001b[38;5;124;03m\"\"\"\u001b[39;00m\n\u001b[1;32m   1550\u001b[0m \u001b[38;5;124;03mFunction that should be used to create a linear expression from a\u001b[39;00m\n\u001b[1;32m   1551\u001b[0m \u001b[38;5;124;03msummation. While the python function sum() can also be used, this\u001b[39;00m\n\u001b[0;32m   (...)\u001b[0m\n\u001b[1;32m   1558\u001b[0m \u001b[38;5;124;03m:rtype: mip.LinExpr\u001b[39;00m\n\u001b[1;32m   1559\u001b[0m \u001b[38;5;124;03m\"\"\"\u001b[39;00m\n\u001b[1;32m   1560\u001b[0m result \u001b[38;5;241m=\u001b[39m mip\u001b[38;5;241m.\u001b[39mLinExpr()\n\u001b[0;32m-> 1561\u001b[0m \u001b[43m\u001b[49m\u001b[38;5;28;43;01mfor\u001b[39;49;00m\u001b[43m \u001b[49m\u001b[43mterm\u001b[49m\u001b[43m \u001b[49m\u001b[38;5;129;43;01min\u001b[39;49;00m\u001b[43m \u001b[49m\u001b[43mterms\u001b[49m\u001b[43m:\u001b[49m\n\u001b[1;32m   1562\u001b[0m \u001b[43m    \u001b[49m\u001b[43mresult\u001b[49m\u001b[38;5;241;43m.\u001b[39;49m\u001b[43madd_term\u001b[49m\u001b[43m(\u001b[49m\u001b[43mterm\u001b[49m\u001b[43m)\u001b[49m\n\u001b[1;32m   1563\u001b[0m \u001b[38;5;28;01mreturn\u001b[39;00m result\n",
      "Cell \u001b[0;32mIn[15], line 24\u001b[0m, in \u001b[0;36m<genexpr>\u001b[0;34m(.0)\u001b[0m\n\u001b[1;32m     21\u001b[0m   \u001b[38;5;28;01mreturn\u001b[39;00m chain\u001b[38;5;241m.\u001b[39mfrom_iterable(combinations(s, r) \u001b[38;5;28;01mfor\u001b[39;00m r \u001b[38;5;129;01min\u001b[39;00m \u001b[38;5;28mrange\u001b[39m(\u001b[38;5;241m1\u001b[39m, \u001b[38;5;28mlen\u001b[39m(s)))\n\u001b[1;32m     23\u001b[0m \u001b[38;5;28;01mfor\u001b[39;00m S \u001b[38;5;129;01min\u001b[39;00m powerset(N):\n\u001b[0;32m---> 24\u001b[0m   m\u001b[38;5;241m.\u001b[39madd_constr( mip\u001b[38;5;241m.\u001b[39mxsum(x[(i, j)] \u001b[38;5;28;01mfor\u001b[39;00m (i, j) \u001b[38;5;129;01min\u001b[39;00m A \u001b[38;5;28;01mif\u001b[39;00m i \u001b[38;5;129;01min\u001b[39;00m S \u001b[38;5;129;01mand\u001b[39;00m j \u001b[38;5;129;01mnot\u001b[39;00m \u001b[38;5;129;01min\u001b[39;00m S) \u001b[38;5;241m>\u001b[39m\u001b[38;5;241m=\u001b[39m \u001b[38;5;241m1\u001b[39m)  \u001b[38;5;66;03m# connectivity of sets constraint\u001b[39;00m\n\u001b[1;32m     26\u001b[0m \u001b[38;5;124;03m'''b = {}\u001b[39;00m\n\u001b[1;32m     27\u001b[0m \u001b[38;5;124;03mfor idx, node in nodes_df.iterrows():\u001b[39;00m\n\u001b[1;32m     28\u001b[0m \u001b[38;5;124;03m  id = node[0]\u001b[39;00m\n\u001b[0;32m   (...)\u001b[0m\n\u001b[1;32m     36\u001b[0m \u001b[38;5;124;03m      mip.xsum(x[(i, j)] for j in N if (i, j) in A) == b[i] )           # shortest path connectivity constraint\u001b[39;00m\n\u001b[1;32m     37\u001b[0m \u001b[38;5;124;03m  '''\u001b[39;00m\n\u001b[1;32m     38\u001b[0m budget \u001b[38;5;241m=\u001b[39m \u001b[38;5;241m1\u001b[39m\n",
      "\u001b[0;31mKeyboardInterrupt\u001b[0m: "
     ]
    }
   ],
   "source": [
    "import mip\n",
    "# Create model\n",
    "m = mip.Model()\n",
    "\n",
    "# define the variables\n",
    "x = {(i, j): m.add_var(var_type=mip.BINARY) for (i, j) in A}            # decisions: arc (i, j) belongs to the path\n",
    "D = m.add_var()                                                         # dummy variable for min-max linearization\n",
    "\n",
    "#  define the contraints\n",
    "\n",
    "m.add_constr( mip.xsum(x[(i, j)] for (i, j) in A if i == 0) == 1 )      # source node -> 1 outgoing arc\n",
    "m.add_constr( mip.xsum(x[(i, j)] for (i, j) in A if j == 52) == 1 )     # destination node -> 1 ingoing arc\n",
    "\n",
    "for i in N:\n",
    "  if i != 0 and i != 52:\n",
    "    m.add_constr( mip.xsum(x[(i, j)] for i, j in A) == 2 )           # two arcs for each other node\n",
    "\n",
    "from itertools import chain, combinations\n",
    "def powerset(iterable):\n",
    "  s = list(iterable)\n",
    "  return chain.from_iterable(combinations(s, r) for r in range(1, len(s)))\n",
    "\n",
    "for S in powerset(N):\n",
    "  m.add_constr( mip.xsum(x[(i, j)] for (i, j) in A if i in S and j not in S) >= 1)  # connectivity of sets constraint\n",
    "\n",
    "'''b = {}\n",
    "for idx, node in nodes_df.iterrows():\n",
    "  id = node[0]\n",
    "  if id == s: b[id] = -1\n",
    "  elif id == t: b[id] = 1\n",
    "  else: b[id] = 0\n",
    "\n",
    "for i in N:\n",
    "  m.add_constr(\n",
    "      mip.xsum(x[(j, i)] for j in N if (j, i) in A) -\n",
    "      mip.xsum(x[(i, j)] for j in N if (i, j) in A) == b[i] )           # shortest path connectivity constraint\n",
    "  '''\n",
    "budget = 1\n",
    "m.add_constr( mip.xsum(x[(i, j)] * c(i, j) for i, j in A) <= budget )   # budget constraint\n",
    "\n",
    "for (i, j) in A:\n",
    "  m.add_constr( D >= x[(i, j)] * d(i, j) )                              # dummy variable constraint\n",
    "\n",
    "# optimize objective function\n",
    "m.objective = mip.minimize( D )\n",
    "\n",
    "m.optimize()\n",
    "print(D.x)"
   ]
  },
  {
   "cell_type": "code",
   "execution_count": null,
   "id": "tf36urfdmSM0",
   "metadata": {
    "id": "tf36urfdmSM0"
   },
   "outputs": [
    {
     "name": "stdout",
     "output_type": "stream",
     "text": [
      "16011.18979\n"
     ]
    }
   ],
   "source": [
    "print(m.objective_value)"
   ]
  },
  {
   "cell_type": "code",
   "execution_count": null,
   "id": "t0HUue7slLVH",
   "metadata": {
    "id": "t0HUue7slLVH"
   },
   "outputs": [],
   "source": [
    "#plot the graph"
   ]
  },
  {
   "cell_type": "code",
   "execution_count": null,
   "id": "U9zSeGbJkZ9t",
   "metadata": {
    "id": "U9zSeGbJkZ9t"
   },
   "outputs": [],
   "source": [
    "# parametric analysis\n",
    "\n",
    "\n",
    "\n",
    "#TO DO\n",
    "\n",
    "\n",
    "# SPT su grafo da 0 al nodo tc è minimizzato il path\n",
    "# SPT come fatto in precedenza su grafo ordinato topologicamente come al punto precedente\n"
   ]
  }
 ],
 "metadata": {
  "colab": {
   "provenance": []
  },
  "kernelspec": {
   "display_name": "Python 3 (ipykernel)",
   "language": "python",
   "name": "python3"
  },
  "language_info": {
   "codemirror_mode": {
    "name": "ipython",
    "version": 3
   },
   "file_extension": ".py",
   "mimetype": "text/x-python",
   "name": "python",
   "nbconvert_exporter": "python",
   "pygments_lexer": "ipython3",
   "version": "3.11.7"
  }
 },
 "nbformat": 4,
 "nbformat_minor": 5
}
