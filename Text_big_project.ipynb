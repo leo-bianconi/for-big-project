{
 "cells": [
  {
   "cell_type": "markdown",
   "id": "4197923e",
   "metadata": {
    "id": "k435Psgdexbb"
   },
   "source": [
    "# Big project activity"
   ]
  },
  {
   "cell_type": "markdown",
   "id": "k435Psgdexbb",
   "metadata": {
    "id": "k435Psgdexbb"
   },
   "source": [
    "## Optimal chargin station location"
   ]
  },
  {
   "cell_type": "markdown",
   "id": "71e8cba3",
   "metadata": {
    "id": "71e8cba3"
   },
   "source": [
    "### 1.Introduction\n",
    "\n",
    "Consider a long linear cycle path  as Vento, or the Danube cycle path. The cycle path usually runs along the banks of a river with scarse tourist interest. However, from the main course of the cycle path it is possible to reach places of tourist interest by making small detours.  \n",
    "\n",
    "The rapid growth of e-bike ridership is proposing the problem of deploying a suitable charging infrastructure. The charging stations should be placed in strategic positions so as to guarantee a coverage of the whole cycle path. However, since the charging operations require a non negligible time, the charging station should be positioned in places where alternative activities could be carried out, as restaurants, museums, swimming pool, or other amenities. Moreover, the presence of a charging station could also induce e-cyclists to discover new places and generate positive externalities.\n",
    "\n"
   ]
  },
  {
   "cell_type": "markdown",
   "id": "F5J-AOngfJfC",
   "metadata": {
    "id": "F5J-AOngfJfC"
   },
   "source": [
    "### 2.Decision problem\n",
    "We can represent the cycle path as a graph where the set of nodes $H = \\{1,\\ldots,n\\}$ corresponds to the tourist sites that may host a charging station.\n",
    "In addition we are given the distances between touristic site ($d_{ij},$ with $ i,j =1,\\ldots,n$). Let $c_i$ be the cost of installing a charging station in site $i, i=1\\ldots,n$.\n",
    "\n",
    "\n",
    "The problem is, given a budget $b$, determine the subset of sites $S\\subseteq H$ where to install the charging stations so that the total cost is not higher than $b$ and the maximum distance between consecutive charging stations is minimized.\n",
    "Consider that the cyclist has to visit all the touristic destination in a consecutive way.\n",
    "\n"
   ]
  },
  {
   "cell_type": "markdown",
   "id": "6f1SzgfSfXlb",
   "metadata": {
    "id": "6f1SzgfSfXlb"
   },
   "source": [
    "### 3.Problem characteristics\n",
    "There are 2 csv files that contain the information of the cycle way, they are essential to build the equivalent graph:\n",
    "\n",
    "\n",
    "*    in the \"nodes.csv\" file there are all the destinations that the cyclist can reach, with their spatial coordinates and the value of installation costs related to that destination. Consider that the \"tourist-dest-id\" is not the graph node number but it is an unique id to identify the destination.\n",
    "*   in the \"OD.csv\" you can find all the arcs between two different nodes, keep attention that the condition of visiting consecutive touristic destination must be respected.\n",
    "\n",
    "The set of nodes $N$ is defined by $\\{0,1,\\ldots,n, n+1\\}$.  The Arcs $A$ correspond to the portion of cycle path between two consecutive charging stations. We assume that potentially e-riders will visit all sites along the way making the suitable deviations and going back to the main path at the initial point of the detour.\n",
    "The cost associated with each  arc $(i,j)$ is given by $c_j$, thus the cost of installing a charging station in $j$. These costs are defined for all arcs in $A$, while they are set to 0 for all the arcs that arrive in the last node.\n",
    "The path starts in node $s = 0$ and ends in node $t = n+1$, these two nodes are connected to the nearest touristic site with an arc of null length.\n",
    "\n",
    "### 4.Example of linear path with deviation\n",
    "![picture](https://drive.google.com/uc?export=view&id=1w16bHtbu0FGGL-UntxeqxD7244D3eHbJ)"
   ]
  },
  {
   "cell_type": "markdown",
   "id": "C3mv0MBqf-7F",
   "metadata": {
    "id": "C3mv0MBqf-7F"
   },
   "source": [
    "### 5.Requirements\n",
    "The requirements of the problem are:\n",
    "\n",
    "\n",
    "*   the maximum running time of the algorithm must be 5 minutes, so set the proper timer\n",
    "*   create the equivalent graph and display it on a xy-plot\n",
    "*   find the solution for the basic scenario, with a mip model, displaying the solution with a xy-plot, the budget constrain is $b = 10000\\ € $.\n",
    "*   Find the optimal solution for 5 different values of budget in the range $[10000, 100000]$. Select the values of the budget so as to have different charger locations.\n",
    "\n",
    "  You have to motivate you choice and the solution you get. They can also be not common solution if they are well motivated. To support your decision and explanations you can print plots or tables. You can also compare different scenarios.\n",
    "\n",
    "\n",
    "   \n",
    "If you have some doubts related to the parametric analysis prof. Cubillos uploaded a notebook with the solution on WeBeeP and you can have a look there."
   ]
  },
  {
   "cell_type": "markdown",
   "id": "83391c72",
   "metadata": {},
   "source": [
    "### Insert student name and student ID\n",
    "\n",
    "student1:\n",
    "\n",
    "ID1:\n",
    "\n",
    "student2:\n",
    "\n",
    "ID2:\n",
    "\n",
    "student3\n",
    "\n",
    "ID3:\n",
    "\n"
   ]
  },
  {
   "cell_type": "code",
   "execution_count": 1,
   "id": "1Wtgd9v5j6QG",
   "metadata": {
    "id": "1Wtgd9v5j6QG"
   },
   "outputs": [],
   "source": [
    "#install libraries\n",
    "\n",
    "#!pip install mip\n",
    "#!pip install --upgrade cffi==1.15.0"
   ]
  },
  {
   "cell_type": "code",
   "execution_count": 6,
   "id": "6ac6b084",
   "metadata": {
    "id": "6ac6b084"
   },
   "outputs": [],
   "source": [
    "#import libraries\n",
    "import mip\n",
    "import pandas as pd\n",
    "import importlib\n",
    "import cffi\n",
    "importlib.reload(cffi)\n",
    "import numpy as np\n",
    "import math\n",
    "import networkx as nx\n",
    "import matplotlib as pl"
   ]
  },
  {
   "cell_type": "code",
   "execution_count": 20,
   "id": "Sy8XNds0ieqh",
   "metadata": {
    "id": "Sy8XNds0ieqh"
   },
   "outputs": [
    {
     "data": {
      "text/html": [
       "<div>\n",
       "<style scoped>\n",
       "    .dataframe tbody tr th:only-of-type {\n",
       "        vertical-align: middle;\n",
       "    }\n",
       "\n",
       "    .dataframe tbody tr th {\n",
       "        vertical-align: top;\n",
       "    }\n",
       "\n",
       "    .dataframe thead th {\n",
       "        text-align: right;\n",
       "    }\n",
       "</style>\n",
       "<table border=\"1\" class=\"dataframe\">\n",
       "  <thead>\n",
       "    <tr style=\"text-align: right;\">\n",
       "      <th></th>\n",
       "      <th>origin_id</th>\n",
       "      <th>destination_id</th>\n",
       "      <th>distance [m]</th>\n",
       "    </tr>\n",
       "  </thead>\n",
       "  <tbody>\n",
       "    <tr>\n",
       "      <th>0</th>\n",
       "      <td>0</td>\n",
       "      <td>0</td>\n",
       "      <td>NaN</td>\n",
       "    </tr>\n",
       "    <tr>\n",
       "      <th>1</th>\n",
       "      <td>0</td>\n",
       "      <td>17</td>\n",
       "      <td>43798.08450</td>\n",
       "    </tr>\n",
       "    <tr>\n",
       "      <th>2</th>\n",
       "      <td>0</td>\n",
       "      <td>18</td>\n",
       "      <td>47252.99168</td>\n",
       "    </tr>\n",
       "    <tr>\n",
       "      <th>3</th>\n",
       "      <td>0</td>\n",
       "      <td>20</td>\n",
       "      <td>57171.88493</td>\n",
       "    </tr>\n",
       "    <tr>\n",
       "      <th>4</th>\n",
       "      <td>0</td>\n",
       "      <td>21</td>\n",
       "      <td>62260.57345</td>\n",
       "    </tr>\n",
       "  </tbody>\n",
       "</table>\n",
       "</div>"
      ],
      "text/plain": [
       "   origin_id  destination_id  distance [m]\n",
       "0          0               0           NaN\n",
       "1          0              17   43798.08450\n",
       "2          0              18   47252.99168\n",
       "3          0              20   57171.88493\n",
       "4          0              21   62260.57345"
      ]
     },
     "execution_count": 20,
     "metadata": {},
     "output_type": "execute_result"
    }
   ],
   "source": [
    "#import the csv file\n",
    "nodes_df = pd.read_csv(\"./nodes.csv\", encoding='cp1252')\n",
    "arcs_df = pd.read_csv(\"./OD.csv\")\n",
    "\n",
    "nodes_df.head()\n",
    "arcs_df.head()"
   ]
  },
  {
   "cell_type": "code",
   "execution_count": null,
   "id": "kUQ0SWZmk_PS",
   "metadata": {
    "id": "kUQ0SWZmk_PS"
   },
   "outputs": [],
   "source": [
    "#set the timer\n",
    "\n",
    "#TO DO"
   ]
  },
  {
   "cell_type": "code",
   "execution_count": 58,
   "id": "NAk7cwB25Ukr",
   "metadata": {
    "id": "NAk7cwB25Ukr"
   },
   "outputs": [
    {
     "name": "stdout",
     "output_type": "stream",
     "text": [
      "{0, 17, 18, 20, 21, 23, 24, 25, 29, 30, 31, 32, 33, 35, 36, 38, 39, 40, 41, 48, 52, 53, 54, 57, 58, 60, 61, 62, 63, 64, 66, 67, 68, 69, 77, 82, 83, 84, 85, 86, 87, 88, 89, 90}\n",
      "[(0, 17), (0, 18), (0, 20), (0, 21), (0, 23), (0, 24), (0, 25), (0, 29), (0, 30), (0, 31), (0, 32), (0, 33), (0, 35), (0, 36), (0, 38), (0, 39), (0, 40), (0, 41), (0, 48), (0, 52), (0, 53), (0, 54), (0, 57), (0, 58), (0, 60), (0, 61), (0, 62), (0, 63), (0, 64), (0, 66), (0, 67), (0, 68), (0, 69), (0, 77), (0, 82), (0, 83), (0, 84), (0, 85), (0, 86), (0, 87), (0, 88), (0, 89), (0, 90), (17, 18), (17, 20), (17, 21), (17, 23), (17, 24), (17, 25), (17, 29), (17, 30), (17, 31), (17, 32), (17, 33), (17, 35), (17, 36), (17, 38), (17, 39), (17, 40), (17, 41), (17, 48), (17, 52), (17, 53), (17, 54), (17, 57), (17, 58), (17, 60), (17, 61), (17, 62), (17, 63), (17, 64), (17, 66), (17, 67), (17, 68), (17, 69), (17, 77), (17, 82), (17, 83), (17, 84), (17, 85), (17, 86), (17, 87), (17, 88), (17, 89), (17, 90), (18, 20), (18, 21), (18, 23), (18, 24), (18, 25), (18, 29), (18, 30), (18, 31), (18, 32), (18, 33), (18, 35), (18, 36), (18, 38), (18, 39), (18, 40), (18, 41), (18, 48), (18, 52), (18, 53), (18, 54), (18, 57), (18, 58), (18, 60), (18, 61), (18, 62), (18, 63), (18, 64), (18, 66), (18, 67), (18, 68), (18, 69), (18, 77), (18, 82), (18, 83), (18, 84), (18, 85), (18, 86), (18, 87), (18, 88), (18, 89), (18, 90), (20, 21), (20, 23), (20, 24), (20, 25), (20, 29), (20, 30), (20, 31), (20, 32), (20, 33), (20, 35), (20, 36), (20, 38), (20, 39), (20, 40), (20, 41), (20, 48), (20, 52), (20, 53), (20, 54), (20, 57), (20, 58), (20, 60), (20, 61), (20, 62), (20, 63), (20, 64), (20, 66), (20, 67), (20, 68), (20, 69), (20, 77), (20, 82), (20, 83), (20, 84), (20, 85), (20, 86), (20, 87), (20, 88), (20, 89), (20, 90), (21, 23), (21, 24), (21, 25), (21, 29), (21, 30), (21, 31), (21, 32), (21, 33), (21, 35), (21, 36), (21, 38), (21, 39), (21, 40), (21, 41), (21, 48), (21, 52), (21, 53), (21, 54), (21, 57), (21, 58), (21, 60), (21, 61), (21, 62), (21, 63), (21, 64), (21, 66), (21, 67), (21, 68), (21, 69), (21, 77), (21, 82), (21, 83), (21, 84), (21, 85), (21, 86), (21, 87), (21, 88), (21, 89), (21, 90), (23, 24), (23, 25), (23, 29), (23, 30), (23, 31), (23, 32), (23, 33), (23, 35), (23, 36), (23, 38), (23, 39), (23, 40), (23, 41), (23, 48), (23, 52), (23, 53), (23, 54), (23, 57), (23, 58), (23, 60), (23, 61), (23, 62), (23, 63), (23, 64), (23, 66), (23, 67), (23, 68), (23, 69), (23, 77), (23, 82), (23, 83), (23, 84), (23, 85), (23, 86), (23, 87), (23, 88), (23, 89), (23, 90), (24, 25), (24, 29), (24, 30), (24, 31), (24, 32), (24, 33), (24, 35), (24, 36), (24, 38), (24, 39), (24, 40), (24, 41), (24, 48), (24, 52), (24, 53), (24, 54), (24, 57), (24, 58), (24, 60), (24, 61), (24, 62), (24, 63), (24, 64), (24, 66), (24, 67), (24, 68), (24, 69), (24, 77), (24, 82), (24, 83), (24, 84), (24, 85), (24, 86), (24, 87), (24, 88), (24, 89), (24, 90), (25, 29), (25, 30), (25, 31), (25, 32), (25, 33), (25, 35), (25, 36), (25, 38), (25, 39), (25, 40), (25, 41), (25, 48), (25, 52), (25, 53), (25, 54), (25, 57), (25, 58), (25, 60), (25, 61), (25, 62), (25, 63), (25, 64), (25, 66), (25, 67), (25, 68), (25, 69), (25, 77), (25, 82), (25, 83), (25, 84), (25, 85), (25, 86), (25, 87), (25, 88), (25, 89), (25, 90), (29, 30), (29, 31), (29, 32), (29, 33), (29, 35), (29, 36), (29, 38), (29, 39), (29, 40), (29, 41), (29, 48), (29, 52), (29, 53), (29, 54), (29, 57), (29, 58), (29, 60), (29, 61), (29, 62), (29, 63), (29, 64), (29, 66), (29, 67), (29, 68), (29, 69), (29, 77), (29, 82), (29, 83), (29, 84), (29, 85), (29, 86), (29, 87), (29, 88), (29, 89), (29, 90), (30, 31), (30, 32), (30, 33), (30, 35), (30, 36), (30, 38), (30, 39), (30, 40), (30, 41), (30, 48), (30, 52), (30, 53), (30, 54), (30, 57), (30, 58), (30, 60), (30, 61), (30, 62), (30, 63), (30, 64), (30, 66), (30, 67), (30, 68), (30, 69), (30, 77), (30, 82), (30, 83), (30, 84), (30, 85), (30, 86), (30, 87), (30, 88), (30, 89), (30, 90), (31, 32), (31, 33), (31, 35), (31, 36), (31, 38), (31, 39), (31, 40), (31, 41), (31, 48), (31, 52), (31, 53), (31, 54), (31, 57), (31, 58), (31, 60), (31, 61), (31, 62), (31, 63), (31, 64), (31, 66), (31, 67), (31, 68), (31, 69), (31, 77), (31, 82), (31, 83), (31, 84), (31, 85), (31, 86), (31, 87), (31, 88), (31, 89), (31, 90), (32, 33), (32, 35), (32, 36), (32, 38), (32, 39), (32, 40), (32, 41), (32, 48), (32, 52), (32, 53), (32, 54), (32, 57), (32, 58), (32, 60), (32, 61), (32, 62), (32, 63), (32, 64), (32, 66), (32, 67), (32, 68), (32, 69), (32, 77), (32, 82), (32, 83), (32, 84), (32, 85), (32, 86), (32, 87), (32, 88), (32, 89), (32, 90), (33, 35), (33, 36), (33, 38), (33, 39), (33, 40), (33, 41), (33, 48), (33, 52), (33, 53), (33, 54), (33, 57), (33, 58), (33, 60), (33, 61), (33, 62), (33, 63), (33, 64), (33, 66), (33, 67), (33, 68), (33, 69), (33, 77), (33, 82), (33, 83), (33, 84), (33, 85), (33, 86), (33, 87), (33, 88), (33, 89), (33, 90), (35, 36), (35, 38), (35, 39), (35, 40), (35, 41), (35, 48), (35, 52), (35, 53), (35, 54), (35, 57), (35, 58), (35, 60), (35, 61), (35, 62), (35, 63), (35, 64), (35, 66), (35, 67), (35, 68), (35, 69), (35, 77), (35, 82), (35, 83), (35, 84), (35, 85), (35, 86), (35, 87), (35, 88), (35, 89), (35, 90), (36, 38), (36, 39), (36, 40), (36, 41), (36, 48), (36, 52), (36, 53), (36, 54), (36, 57), (36, 58), (36, 60), (36, 61), (36, 62), (36, 63), (36, 64), (36, 66), (36, 67), (36, 68), (36, 69), (36, 77), (36, 82), (36, 83), (36, 84), (36, 85), (36, 86), (36, 87), (36, 88), (36, 89), (36, 90), (38, 39), (38, 40), (38, 41), (38, 48), (38, 52), (38, 53), (38, 54), (38, 57), (38, 58), (38, 60), (38, 61), (38, 62), (38, 63), (38, 64), (38, 66), (38, 67), (38, 68), (38, 69), (38, 77), (38, 82), (38, 83), (38, 84), (38, 85), (38, 86), (38, 87), (38, 88), (38, 89), (38, 90), (39, 40), (39, 41), (39, 48), (39, 52), (39, 53), (39, 54), (39, 57), (39, 58), (39, 60), (39, 61), (39, 62), (39, 63), (39, 64), (39, 66), (39, 67), (39, 68), (39, 69), (39, 77), (39, 82), (39, 83), (39, 84), (39, 85), (39, 86), (39, 87), (39, 88), (39, 89), (39, 90), (40, 41), (40, 48), (40, 52), (40, 53), (40, 54), (40, 57), (40, 58), (40, 60), (40, 61), (40, 62), (40, 63), (40, 64), (40, 66), (40, 67), (40, 68), (40, 69), (40, 77), (40, 82), (40, 83), (40, 84), (40, 85), (40, 86), (40, 87), (40, 88), (40, 89), (40, 90), (41, 48), (41, 52), (41, 53), (41, 54), (41, 57), (41, 58), (41, 60), (41, 61), (41, 62), (41, 63), (41, 64), (41, 66), (41, 67), (41, 68), (41, 69), (41, 77), (41, 82), (41, 83), (41, 84), (41, 85), (41, 86), (41, 87), (41, 88), (41, 89), (41, 90), (48, 52), (48, 53), (48, 54), (48, 57), (48, 58), (48, 60), (48, 61), (48, 62), (48, 63), (48, 64), (48, 66), (48, 67), (48, 68), (48, 69), (48, 77), (48, 82), (48, 83), (48, 84), (48, 85), (48, 86), (48, 87), (48, 88), (48, 89), (48, 90), (52, 53), (52, 54), (52, 57), (52, 58), (52, 60), (52, 61), (52, 62), (52, 63), (52, 64), (52, 66), (52, 67), (52, 68), (52, 69), (52, 77), (52, 82), (52, 83), (52, 84), (52, 85), (52, 86), (52, 87), (52, 88), (52, 89), (52, 90), (53, 54), (53, 57), (53, 58), (53, 60), (53, 61), (53, 62), (53, 63), (53, 64), (53, 66), (53, 67), (53, 68), (53, 69), (53, 77), (53, 82), (53, 83), (53, 84), (53, 85), (53, 86), (53, 87), (53, 88), (53, 89), (53, 90), (54, 57), (54, 58), (54, 60), (54, 61), (54, 62), (54, 63), (54, 64), (54, 66), (54, 67), (54, 68), (54, 69), (54, 77), (54, 82), (54, 83), (54, 84), (54, 85), (54, 86), (54, 87), (54, 88), (54, 89), (54, 90), (57, 58), (57, 60), (57, 61), (57, 62), (57, 63), (57, 64), (57, 66), (57, 67), (57, 68), (57, 69), (57, 77), (57, 82), (57, 83), (57, 84), (57, 85), (57, 86), (57, 87), (57, 88), (57, 89), (57, 90), (58, 60), (58, 61), (58, 62), (58, 63), (58, 64), (58, 66), (58, 67), (58, 68), (58, 69), (58, 77), (58, 82), (58, 83), (58, 84), (58, 85), (58, 86), (58, 87), (58, 88), (58, 89), (58, 90), (60, 61), (60, 62), (60, 63), (60, 64), (60, 66), (60, 67), (60, 68), (60, 69), (60, 77), (60, 82), (60, 83), (60, 84), (60, 85), (60, 86), (60, 87), (60, 88), (60, 89), (60, 90), (61, 62), (61, 63), (61, 64), (61, 66), (61, 67), (61, 68), (61, 69), (61, 77), (61, 82), (61, 83), (61, 84), (61, 85), (61, 86), (61, 87), (61, 88), (61, 89), (61, 90), (62, 63), (62, 64), (62, 66), (62, 67), (62, 68), (62, 69), (62, 77), (62, 82), (62, 83), (62, 84), (62, 85), (62, 86), (62, 87), (62, 88), (62, 89), (62, 90), (63, 64), (63, 66), (63, 67), (63, 68), (63, 69), (63, 77), (63, 82), (63, 83), (63, 84), (63, 85), (63, 86), (63, 87), (63, 88), (63, 89), (63, 90), (64, 66), (64, 67), (64, 68), (64, 69), (64, 77), (64, 82), (64, 83), (64, 84), (64, 85), (64, 86), (64, 87), (64, 88), (64, 89), (64, 90), (66, 67), (66, 68), (66, 69), (66, 77), (66, 82), (66, 83), (66, 84), (66, 85), (66, 86), (66, 87), (66, 88), (66, 89), (66, 90), (67, 68), (67, 69), (67, 77), (67, 82), (67, 83), (67, 84), (67, 85), (67, 86), (67, 87), (67, 88), (67, 89), (67, 90), (68, 69), (68, 77), (68, 82), (68, 83), (68, 84), (68, 85), (68, 86), (68, 87), (68, 88), (68, 89), (68, 90), (69, 77), (69, 82), (69, 83), (69, 84), (69, 85), (69, 86), (69, 87), (69, 88), (69, 89), (69, 90), (77, 82), (77, 83), (77, 84), (77, 85), (77, 86), (77, 87), (77, 88), (77, 89), (77, 90), (82, 83), (82, 84), (82, 85), (82, 86), (82, 87), (82, 88), (82, 89), (82, 90), (83, 84), (83, 85), (83, 86), (83, 87), (83, 88), (83, 89), (83, 90), (84, 85), (84, 86), (84, 87), (84, 88), (84, 89), (84, 90), (85, 86), (85, 87), (85, 88), (85, 89), (85, 90), (86, 87), (86, 88), (86, 89), (86, 90), (87, 88), (87, 89), (87, 90), (88, 89), (88, 90), (89, 90)]\n",
      "0\n",
      "43798.0845\n"
     ]
    }
   ],
   "source": [
    "#build the equivalent graph\n",
    "\n",
    "#define the set of nodes\n",
    "N = set()\n",
    "for index, node in nodes_df.iterrows():\n",
    "    N.add(node.tourist_dest_id)\n",
    "\n",
    "n = len(N)\n",
    "s = 0\n",
    "t = 90\n",
    "print(N)\n",
    "\n",
    "#define the set of edges\n",
    "A = set()\n",
    "for idx, arc in arcs_df.iterrows():\n",
    "    i = int(arc.origin_id)\n",
    "    j = int(arc.destination_id)\n",
    "    if i < j:\n",
    "        A.add((i, j))\n",
    "\n",
    "print(sorted(A))\n",
    "\n",
    "def d(i, j):\n",
    "    res = arcs_df.loc[(arcs_df['origin_id'] == i) & (arcs_df['destination_id'] == j), 'distance [m]'].values[0]\n",
    "    return res\n",
    "\n",
    "def c(i, j):\n",
    "    if j == t: return 0\n",
    "    return nodes_df.loc[(nodes_df['tourist_dest_id'] == j), 'Cost_of_installation [€]'].values[0]\n",
    "\n",
    "print(c(0, 90))\n",
    "\n",
    "print(d(0, 17))\n",
    "\n",
    "#plot the graph\n",
    "\n",
    "#TO DO\n",
    "\n"
   ]
  },
  {
   "cell_type": "code",
   "execution_count": 64,
   "id": "F29pxMjAT7n5",
   "metadata": {
    "id": "F29pxMjAT7n5"
   },
   "outputs": [
    {
     "name": "stderr",
     "output_type": "stream",
     "text": [
      "/tmp/ipykernel_58964/59281946.py:12: FutureWarning: Series.__getitem__ treating keys as positions is deprecated. In a future version, integer keys will always be treated as labels (consistent with DataFrame behavior). To access a value by position, use `ser.iloc[pos]`\n",
      "  id = node[0]\n"
     ]
    },
    {
     "ename": "AttributeError",
     "evalue": "'generator' object has no attribute 'sense'",
     "output_type": "error",
     "traceback": [
      "\u001b[0;31m---------------------------------------------------------------------------\u001b[0m",
      "\u001b[0;31mAttributeError\u001b[0m                            Traceback (most recent call last)",
      "\u001b[1;32m/home/leo/Documents/school/4y/for/labs/big-project/Text_big_project.ipynb Cell 13\u001b[0m line \u001b[0;36m2\n\u001b[1;32m     <a href='vscode-notebook-cell:/home/leo/Documents/school/4y/for/labs/big-project/Text_big_project.ipynb#X15sZmlsZQ%3D%3D?line=24'>25</a>\u001b[0m m\u001b[39m.\u001b[39madd_constr( mip\u001b[39m.\u001b[39mxsum(x[(i, j)] \u001b[39m*\u001b[39m c(i, j) \u001b[39mfor\u001b[39;00m i, j \u001b[39min\u001b[39;00m A) \u001b[39m<\u001b[39m\u001b[39m=\u001b[39m budget)\n\u001b[1;32m     <a href='vscode-notebook-cell:/home/leo/Documents/school/4y/for/labs/big-project/Text_big_project.ipynb#X15sZmlsZQ%3D%3D?line=26'>27</a>\u001b[0m \u001b[39m# optimize objective function\u001b[39;00m\n\u001b[0;32m---> <a href='vscode-notebook-cell:/home/leo/Documents/school/4y/for/labs/big-project/Text_big_project.ipynb#X15sZmlsZQ%3D%3D?line=27'>28</a>\u001b[0m m\u001b[39m.\u001b[39mobjective \u001b[39m=\u001b[39m mip\u001b[39m.\u001b[39;49mminimize(np\u001b[39m.\u001b[39;49mmax( x[(i, j)] \u001b[39m*\u001b[39;49m c(i, j) \u001b[39mfor\u001b[39;49;00m i, j \u001b[39min\u001b[39;49;00m A))\n\u001b[1;32m     <a href='vscode-notebook-cell:/home/leo/Documents/school/4y/for/labs/big-project/Text_big_project.ipynb#X15sZmlsZQ%3D%3D?line=29'>30</a>\u001b[0m m\u001b[39m.\u001b[39moptimize()\n",
      "File \u001b[0;32m~/Documents/school/4y/for/labs/.venv/lib/python3.11/site-packages/mip/model.py:1544\u001b[0m, in \u001b[0;36mminimize\u001b[0;34m(objective)\u001b[0m\n\u001b[1;32m   1542\u001b[0m \u001b[39mif\u001b[39;00m \u001b[39misinstance\u001b[39m(objective, mip\u001b[39m.\u001b[39mVar):\n\u001b[1;32m   1543\u001b[0m     objective \u001b[39m=\u001b[39m mip\u001b[39m.\u001b[39mLinExpr([objective], [\u001b[39m1.0\u001b[39m])\n\u001b[0;32m-> 1544\u001b[0m objective\u001b[39m.\u001b[39;49msense \u001b[39m=\u001b[39m mip\u001b[39m.\u001b[39mMINIMIZE\n\u001b[1;32m   1545\u001b[0m \u001b[39mreturn\u001b[39;00m objective\n",
      "\u001b[0;31mAttributeError\u001b[0m: 'generator' object has no attribute 'sense'"
     ]
    }
   ],
   "source": [
    "import mip\n",
    "# Create model\n",
    "m = mip.Model()\n",
    "\n",
    "\n",
    "# define the variables\n",
    "x = {(i, j): m.add_var(var_type=mip.BINARY) for (i, j) in A}\n",
    "\n",
    "#  define the contraints\n",
    "b = {}\n",
    "for idx, node in nodes_df.iterrows():\n",
    "  id = node[0]\n",
    "  if id == s: b[id] = -1\n",
    "  elif id == t: b[id] = 1\n",
    "  else: b[id] = 0\n",
    "\n",
    "#b = [-1] + [0 for i in range(n - 2)] + [1]\n",
    "\n",
    "for i in N:\n",
    "  m.add_constr(\n",
    "      mip.xsum(x[(j, i)] for j in N if (j, i) in A) -\n",
    "      mip.xsum(x[(i, j)] for j in N if (i, j) in A) == b[i]  )\n",
    "  \n",
    "budget = 10000\n",
    "m.add_constr( mip.xsum(x[(i, j)] * c(i, j) for i, j in A) <= budget)\n",
    "\n",
    "# optimize objective function\n",
    "m.objective = mip.minimize(np.max( x[(i, j)] * c(i, j) for i, j in A))\n",
    "\n",
    "m.optimize()"
   ]
  },
  {
   "cell_type": "code",
   "execution_count": null,
   "id": "tf36urfdmSM0",
   "metadata": {
    "id": "tf36urfdmSM0"
   },
   "outputs": [],
   "source": [
    "print(m.objective_value)"
   ]
  },
  {
   "cell_type": "code",
   "execution_count": null,
   "id": "t0HUue7slLVH",
   "metadata": {
    "id": "t0HUue7slLVH"
   },
   "outputs": [],
   "source": [
    "#plot the graph\n",
    "\n",
    "#TO DO"
   ]
  },
  {
   "cell_type": "code",
   "execution_count": null,
   "id": "U9zSeGbJkZ9t",
   "metadata": {
    "id": "U9zSeGbJkZ9t"
   },
   "outputs": [],
   "source": [
    "# parametric analysis\n",
    "\n",
    "\n",
    "\n",
    "#TO DO\n",
    "\n",
    "\n",
    "\n"
   ]
  }
 ],
 "metadata": {
  "colab": {
   "provenance": []
  },
  "kernelspec": {
   "display_name": "Python 3 (ipykernel)",
   "language": "python",
   "name": "python3"
  },
  "language_info": {
   "codemirror_mode": {
    "name": "ipython",
    "version": 3
   },
   "file_extension": ".py",
   "mimetype": "text/x-python",
   "name": "python",
   "nbconvert_exporter": "python",
   "pygments_lexer": "ipython3",
   "version": "3.11.7"
  }
 },
 "nbformat": 4,
 "nbformat_minor": 5
}
